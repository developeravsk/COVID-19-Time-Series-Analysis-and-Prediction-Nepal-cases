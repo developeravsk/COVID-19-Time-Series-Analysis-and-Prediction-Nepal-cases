{
 "cells": [
  {
   "cell_type": "code",
   "execution_count": 1,
   "metadata": {},
   "outputs": [],
   "source": [
    "import pandas as pd\n",
    "import numpy as np\n",
    "import matplotlib.pyplot as plt\n",
    "%matplotlib inline"
   ]
  },
  {
   "cell_type": "code",
   "execution_count": 2,
   "metadata": {},
   "outputs": [],
   "source": [
    "url = \"https://raw.githubusercontent.com/CSSEGISandData/COVID-19/master/csse_covid_19_data/csse_covid_19_time_series/time_series_covid19_confirmed_global.csv\"\n",
    "df_confirmed = pd.read_csv(url)"
   ]
  },
  {
   "cell_type": "code",
   "execution_count": 3,
   "metadata": {},
   "outputs": [
    {
     "data": {
      "text/html": [
       "<div>\n",
       "<style scoped>\n",
       "    .dataframe tbody tr th:only-of-type {\n",
       "        vertical-align: middle;\n",
       "    }\n",
       "\n",
       "    .dataframe tbody tr th {\n",
       "        vertical-align: top;\n",
       "    }\n",
       "\n",
       "    .dataframe thead th {\n",
       "        text-align: right;\n",
       "    }\n",
       "</style>\n",
       "<table border=\"1\" class=\"dataframe\">\n",
       "  <thead>\n",
       "    <tr style=\"text-align: right;\">\n",
       "      <th></th>\n",
       "      <th>Province/State</th>\n",
       "      <th>Country/Region</th>\n",
       "      <th>Lat</th>\n",
       "      <th>Long</th>\n",
       "      <th>1/22/20</th>\n",
       "      <th>1/23/20</th>\n",
       "      <th>1/24/20</th>\n",
       "      <th>1/25/20</th>\n",
       "      <th>1/26/20</th>\n",
       "      <th>1/27/20</th>\n",
       "      <th>...</th>\n",
       "      <th>5/19/20</th>\n",
       "      <th>5/20/20</th>\n",
       "      <th>5/21/20</th>\n",
       "      <th>5/22/20</th>\n",
       "      <th>5/23/20</th>\n",
       "      <th>5/24/20</th>\n",
       "      <th>5/25/20</th>\n",
       "      <th>5/26/20</th>\n",
       "      <th>5/27/20</th>\n",
       "      <th>5/28/20</th>\n",
       "    </tr>\n",
       "  </thead>\n",
       "  <tbody>\n",
       "    <tr>\n",
       "      <th>0</th>\n",
       "      <td>NaN</td>\n",
       "      <td>Afghanistan</td>\n",
       "      <td>33.0000</td>\n",
       "      <td>65.0000</td>\n",
       "      <td>0</td>\n",
       "      <td>0</td>\n",
       "      <td>0</td>\n",
       "      <td>0</td>\n",
       "      <td>0</td>\n",
       "      <td>0</td>\n",
       "      <td>...</td>\n",
       "      <td>7653</td>\n",
       "      <td>8145</td>\n",
       "      <td>8676</td>\n",
       "      <td>9216</td>\n",
       "      <td>9998</td>\n",
       "      <td>10582</td>\n",
       "      <td>11173</td>\n",
       "      <td>11831</td>\n",
       "      <td>12456</td>\n",
       "      <td>13036</td>\n",
       "    </tr>\n",
       "    <tr>\n",
       "      <th>1</th>\n",
       "      <td>NaN</td>\n",
       "      <td>Albania</td>\n",
       "      <td>41.1533</td>\n",
       "      <td>20.1683</td>\n",
       "      <td>0</td>\n",
       "      <td>0</td>\n",
       "      <td>0</td>\n",
       "      <td>0</td>\n",
       "      <td>0</td>\n",
       "      <td>0</td>\n",
       "      <td>...</td>\n",
       "      <td>949</td>\n",
       "      <td>964</td>\n",
       "      <td>969</td>\n",
       "      <td>981</td>\n",
       "      <td>989</td>\n",
       "      <td>998</td>\n",
       "      <td>1004</td>\n",
       "      <td>1029</td>\n",
       "      <td>1050</td>\n",
       "      <td>1076</td>\n",
       "    </tr>\n",
       "    <tr>\n",
       "      <th>2</th>\n",
       "      <td>NaN</td>\n",
       "      <td>Algeria</td>\n",
       "      <td>28.0339</td>\n",
       "      <td>1.6596</td>\n",
       "      <td>0</td>\n",
       "      <td>0</td>\n",
       "      <td>0</td>\n",
       "      <td>0</td>\n",
       "      <td>0</td>\n",
       "      <td>0</td>\n",
       "      <td>...</td>\n",
       "      <td>7377</td>\n",
       "      <td>7542</td>\n",
       "      <td>7728</td>\n",
       "      <td>7918</td>\n",
       "      <td>8113</td>\n",
       "      <td>8306</td>\n",
       "      <td>8503</td>\n",
       "      <td>8697</td>\n",
       "      <td>8857</td>\n",
       "      <td>8997</td>\n",
       "    </tr>\n",
       "    <tr>\n",
       "      <th>3</th>\n",
       "      <td>NaN</td>\n",
       "      <td>Andorra</td>\n",
       "      <td>42.5063</td>\n",
       "      <td>1.5218</td>\n",
       "      <td>0</td>\n",
       "      <td>0</td>\n",
       "      <td>0</td>\n",
       "      <td>0</td>\n",
       "      <td>0</td>\n",
       "      <td>0</td>\n",
       "      <td>...</td>\n",
       "      <td>761</td>\n",
       "      <td>762</td>\n",
       "      <td>762</td>\n",
       "      <td>762</td>\n",
       "      <td>762</td>\n",
       "      <td>762</td>\n",
       "      <td>763</td>\n",
       "      <td>763</td>\n",
       "      <td>763</td>\n",
       "      <td>763</td>\n",
       "    </tr>\n",
       "    <tr>\n",
       "      <th>4</th>\n",
       "      <td>NaN</td>\n",
       "      <td>Angola</td>\n",
       "      <td>-11.2027</td>\n",
       "      <td>17.8739</td>\n",
       "      <td>0</td>\n",
       "      <td>0</td>\n",
       "      <td>0</td>\n",
       "      <td>0</td>\n",
       "      <td>0</td>\n",
       "      <td>0</td>\n",
       "      <td>...</td>\n",
       "      <td>52</td>\n",
       "      <td>52</td>\n",
       "      <td>58</td>\n",
       "      <td>60</td>\n",
       "      <td>61</td>\n",
       "      <td>69</td>\n",
       "      <td>70</td>\n",
       "      <td>70</td>\n",
       "      <td>71</td>\n",
       "      <td>74</td>\n",
       "    </tr>\n",
       "  </tbody>\n",
       "</table>\n",
       "<p>5 rows × 132 columns</p>\n",
       "</div>"
      ],
      "text/plain": [
       "  Province/State Country/Region      Lat     Long  1/22/20  1/23/20  1/24/20  \\\n",
       "0            NaN    Afghanistan  33.0000  65.0000        0        0        0   \n",
       "1            NaN        Albania  41.1533  20.1683        0        0        0   \n",
       "2            NaN        Algeria  28.0339   1.6596        0        0        0   \n",
       "3            NaN        Andorra  42.5063   1.5218        0        0        0   \n",
       "4            NaN         Angola -11.2027  17.8739        0        0        0   \n",
       "\n",
       "   1/25/20  1/26/20  1/27/20  ...  5/19/20  5/20/20  5/21/20  5/22/20  \\\n",
       "0        0        0        0  ...     7653     8145     8676     9216   \n",
       "1        0        0        0  ...      949      964      969      981   \n",
       "2        0        0        0  ...     7377     7542     7728     7918   \n",
       "3        0        0        0  ...      761      762      762      762   \n",
       "4        0        0        0  ...       52       52       58       60   \n",
       "\n",
       "   5/23/20  5/24/20  5/25/20  5/26/20  5/27/20  5/28/20  \n",
       "0     9998    10582    11173    11831    12456    13036  \n",
       "1      989      998     1004     1029     1050     1076  \n",
       "2     8113     8306     8503     8697     8857     8997  \n",
       "3      762      762      763      763      763      763  \n",
       "4       61       69       70       70       71       74  \n",
       "\n",
       "[5 rows x 132 columns]"
      ]
     },
     "execution_count": 3,
     "metadata": {},
     "output_type": "execute_result"
    }
   ],
   "source": [
    "df_confirmed.head()"
   ]
  },
  {
   "cell_type": "code",
   "execution_count": 4,
   "metadata": {},
   "outputs": [],
   "source": [
    "country = \"Nepal\""
   ]
  },
  {
   "cell_type": "code",
   "execution_count": 5,
   "metadata": {},
   "outputs": [],
   "source": [
    "\n",
    "df_confirmed1 = df_confirmed[df_confirmed[\"Country/Region\"] == country]"
   ]
  },
  {
   "cell_type": "code",
   "execution_count": 6,
   "metadata": {},
   "outputs": [
    {
     "data": {
      "text/html": [
       "<div>\n",
       "<style scoped>\n",
       "    .dataframe tbody tr th:only-of-type {\n",
       "        vertical-align: middle;\n",
       "    }\n",
       "\n",
       "    .dataframe tbody tr th {\n",
       "        vertical-align: top;\n",
       "    }\n",
       "\n",
       "    .dataframe thead th {\n",
       "        text-align: right;\n",
       "    }\n",
       "</style>\n",
       "<table border=\"1\" class=\"dataframe\">\n",
       "  <thead>\n",
       "    <tr style=\"text-align: right;\">\n",
       "      <th></th>\n",
       "      <th>Province/State</th>\n",
       "      <th>Country/Region</th>\n",
       "      <th>Lat</th>\n",
       "      <th>Long</th>\n",
       "      <th>1/22/20</th>\n",
       "      <th>1/23/20</th>\n",
       "      <th>1/24/20</th>\n",
       "      <th>1/25/20</th>\n",
       "      <th>1/26/20</th>\n",
       "      <th>1/27/20</th>\n",
       "      <th>...</th>\n",
       "      <th>5/19/20</th>\n",
       "      <th>5/20/20</th>\n",
       "      <th>5/21/20</th>\n",
       "      <th>5/22/20</th>\n",
       "      <th>5/23/20</th>\n",
       "      <th>5/24/20</th>\n",
       "      <th>5/25/20</th>\n",
       "      <th>5/26/20</th>\n",
       "      <th>5/27/20</th>\n",
       "      <th>5/28/20</th>\n",
       "    </tr>\n",
       "  </thead>\n",
       "  <tbody>\n",
       "    <tr>\n",
       "      <th>165</th>\n",
       "      <td>NaN</td>\n",
       "      <td>Nepal</td>\n",
       "      <td>28.1667</td>\n",
       "      <td>84.25</td>\n",
       "      <td>0</td>\n",
       "      <td>0</td>\n",
       "      <td>0</td>\n",
       "      <td>1</td>\n",
       "      <td>1</td>\n",
       "      <td>1</td>\n",
       "      <td>...</td>\n",
       "      <td>402</td>\n",
       "      <td>427</td>\n",
       "      <td>457</td>\n",
       "      <td>516</td>\n",
       "      <td>584</td>\n",
       "      <td>603</td>\n",
       "      <td>682</td>\n",
       "      <td>772</td>\n",
       "      <td>886</td>\n",
       "      <td>1042</td>\n",
       "    </tr>\n",
       "  </tbody>\n",
       "</table>\n",
       "<p>1 rows × 132 columns</p>\n",
       "</div>"
      ],
      "text/plain": [
       "    Province/State Country/Region      Lat   Long  1/22/20  1/23/20  1/24/20  \\\n",
       "165            NaN          Nepal  28.1667  84.25        0        0        0   \n",
       "\n",
       "     1/25/20  1/26/20  1/27/20  ...  5/19/20  5/20/20  5/21/20  5/22/20  \\\n",
       "165        1        1        1  ...      402      427      457      516   \n",
       "\n",
       "     5/23/20  5/24/20  5/25/20  5/26/20  5/27/20  5/28/20  \n",
       "165      584      603      682      772      886     1042  \n",
       "\n",
       "[1 rows x 132 columns]"
      ]
     },
     "execution_count": 6,
     "metadata": {},
     "output_type": "execute_result"
    }
   ],
   "source": [
    "df_confirmed1"
   ]
  },
  {
   "cell_type": "code",
   "execution_count": 7,
   "metadata": {},
   "outputs": [
    {
     "data": {
      "text/html": [
       "<div>\n",
       "<style scoped>\n",
       "    .dataframe tbody tr th:only-of-type {\n",
       "        vertical-align: middle;\n",
       "    }\n",
       "\n",
       "    .dataframe tbody tr th {\n",
       "        vertical-align: top;\n",
       "    }\n",
       "\n",
       "    .dataframe thead th {\n",
       "        text-align: right;\n",
       "    }\n",
       "</style>\n",
       "<table border=\"1\" class=\"dataframe\">\n",
       "  <thead>\n",
       "    <tr style=\"text-align: right;\">\n",
       "      <th></th>\n",
       "      <th>confirmed</th>\n",
       "    </tr>\n",
       "  </thead>\n",
       "  <tbody>\n",
       "    <tr>\n",
       "      <th>2020-05-24</th>\n",
       "      <td>603</td>\n",
       "    </tr>\n",
       "    <tr>\n",
       "      <th>2020-05-25</th>\n",
       "      <td>682</td>\n",
       "    </tr>\n",
       "    <tr>\n",
       "      <th>2020-05-26</th>\n",
       "      <td>772</td>\n",
       "    </tr>\n",
       "    <tr>\n",
       "      <th>2020-05-27</th>\n",
       "      <td>886</td>\n",
       "    </tr>\n",
       "    <tr>\n",
       "      <th>2020-05-28</th>\n",
       "      <td>1042</td>\n",
       "    </tr>\n",
       "  </tbody>\n",
       "</table>\n",
       "</div>"
      ],
      "text/plain": [
       "            confirmed\n",
       "2020-05-24        603\n",
       "2020-05-25        682\n",
       "2020-05-26        772\n",
       "2020-05-27        886\n",
       "2020-05-28       1042"
      ]
     },
     "execution_count": 7,
     "metadata": {},
     "output_type": "execute_result"
    }
   ],
   "source": [
    "## structuring times eries data\n",
    "df_confirmed2 = pd.DataFrame(df_confirmed1[df_confirmed1.columns[4:]].sum(),columns=[\"confirmed\"])\n",
    "df_confirmed2.index = pd.to_datetime(df_confirmed2.index,format='%m/%d/%y')\n",
    "df_confirmed2.tail()"
   ]
  },
  {
   "cell_type": "code",
   "execution_count": 8,
   "metadata": {},
   "outputs": [],
   "source": [
    "## total dead\n",
    "df_dead = pd.read_csv(\"https://raw.githubusercontent.com/CSSEGISandData/COVID-19/master/csse_covid_19_data/csse_covid_19_time_series/time_series_covid19_deaths_global.csv\")"
   ]
  },
  {
   "cell_type": "code",
   "execution_count": 9,
   "metadata": {},
   "outputs": [
    {
     "data": {
      "text/html": [
       "<div>\n",
       "<style scoped>\n",
       "    .dataframe tbody tr th:only-of-type {\n",
       "        vertical-align: middle;\n",
       "    }\n",
       "\n",
       "    .dataframe tbody tr th {\n",
       "        vertical-align: top;\n",
       "    }\n",
       "\n",
       "    .dataframe thead th {\n",
       "        text-align: right;\n",
       "    }\n",
       "</style>\n",
       "<table border=\"1\" class=\"dataframe\">\n",
       "  <thead>\n",
       "    <tr style=\"text-align: right;\">\n",
       "      <th></th>\n",
       "      <th>Province/State</th>\n",
       "      <th>Country/Region</th>\n",
       "      <th>Lat</th>\n",
       "      <th>Long</th>\n",
       "      <th>1/22/20</th>\n",
       "      <th>1/23/20</th>\n",
       "      <th>1/24/20</th>\n",
       "      <th>1/25/20</th>\n",
       "      <th>1/26/20</th>\n",
       "      <th>1/27/20</th>\n",
       "      <th>...</th>\n",
       "      <th>5/19/20</th>\n",
       "      <th>5/20/20</th>\n",
       "      <th>5/21/20</th>\n",
       "      <th>5/22/20</th>\n",
       "      <th>5/23/20</th>\n",
       "      <th>5/24/20</th>\n",
       "      <th>5/25/20</th>\n",
       "      <th>5/26/20</th>\n",
       "      <th>5/27/20</th>\n",
       "      <th>5/28/20</th>\n",
       "    </tr>\n",
       "  </thead>\n",
       "  <tbody>\n",
       "    <tr>\n",
       "      <th>0</th>\n",
       "      <td>NaN</td>\n",
       "      <td>Afghanistan</td>\n",
       "      <td>33.0000</td>\n",
       "      <td>65.0000</td>\n",
       "      <td>0</td>\n",
       "      <td>0</td>\n",
       "      <td>0</td>\n",
       "      <td>0</td>\n",
       "      <td>0</td>\n",
       "      <td>0</td>\n",
       "      <td>...</td>\n",
       "      <td>178</td>\n",
       "      <td>187</td>\n",
       "      <td>193</td>\n",
       "      <td>205</td>\n",
       "      <td>216</td>\n",
       "      <td>218</td>\n",
       "      <td>219</td>\n",
       "      <td>220</td>\n",
       "      <td>227</td>\n",
       "      <td>235</td>\n",
       "    </tr>\n",
       "    <tr>\n",
       "      <th>1</th>\n",
       "      <td>NaN</td>\n",
       "      <td>Albania</td>\n",
       "      <td>41.1533</td>\n",
       "      <td>20.1683</td>\n",
       "      <td>0</td>\n",
       "      <td>0</td>\n",
       "      <td>0</td>\n",
       "      <td>0</td>\n",
       "      <td>0</td>\n",
       "      <td>0</td>\n",
       "      <td>...</td>\n",
       "      <td>31</td>\n",
       "      <td>31</td>\n",
       "      <td>31</td>\n",
       "      <td>31</td>\n",
       "      <td>31</td>\n",
       "      <td>32</td>\n",
       "      <td>32</td>\n",
       "      <td>33</td>\n",
       "      <td>33</td>\n",
       "      <td>33</td>\n",
       "    </tr>\n",
       "    <tr>\n",
       "      <th>2</th>\n",
       "      <td>NaN</td>\n",
       "      <td>Algeria</td>\n",
       "      <td>28.0339</td>\n",
       "      <td>1.6596</td>\n",
       "      <td>0</td>\n",
       "      <td>0</td>\n",
       "      <td>0</td>\n",
       "      <td>0</td>\n",
       "      <td>0</td>\n",
       "      <td>0</td>\n",
       "      <td>...</td>\n",
       "      <td>561</td>\n",
       "      <td>568</td>\n",
       "      <td>575</td>\n",
       "      <td>582</td>\n",
       "      <td>592</td>\n",
       "      <td>600</td>\n",
       "      <td>609</td>\n",
       "      <td>617</td>\n",
       "      <td>623</td>\n",
       "      <td>630</td>\n",
       "    </tr>\n",
       "    <tr>\n",
       "      <th>3</th>\n",
       "      <td>NaN</td>\n",
       "      <td>Andorra</td>\n",
       "      <td>42.5063</td>\n",
       "      <td>1.5218</td>\n",
       "      <td>0</td>\n",
       "      <td>0</td>\n",
       "      <td>0</td>\n",
       "      <td>0</td>\n",
       "      <td>0</td>\n",
       "      <td>0</td>\n",
       "      <td>...</td>\n",
       "      <td>51</td>\n",
       "      <td>51</td>\n",
       "      <td>51</td>\n",
       "      <td>51</td>\n",
       "      <td>51</td>\n",
       "      <td>51</td>\n",
       "      <td>51</td>\n",
       "      <td>51</td>\n",
       "      <td>51</td>\n",
       "      <td>51</td>\n",
       "    </tr>\n",
       "    <tr>\n",
       "      <th>4</th>\n",
       "      <td>NaN</td>\n",
       "      <td>Angola</td>\n",
       "      <td>-11.2027</td>\n",
       "      <td>17.8739</td>\n",
       "      <td>0</td>\n",
       "      <td>0</td>\n",
       "      <td>0</td>\n",
       "      <td>0</td>\n",
       "      <td>0</td>\n",
       "      <td>0</td>\n",
       "      <td>...</td>\n",
       "      <td>3</td>\n",
       "      <td>3</td>\n",
       "      <td>3</td>\n",
       "      <td>3</td>\n",
       "      <td>4</td>\n",
       "      <td>4</td>\n",
       "      <td>4</td>\n",
       "      <td>4</td>\n",
       "      <td>4</td>\n",
       "      <td>4</td>\n",
       "    </tr>\n",
       "  </tbody>\n",
       "</table>\n",
       "<p>5 rows × 132 columns</p>\n",
       "</div>"
      ],
      "text/plain": [
       "  Province/State Country/Region      Lat     Long  1/22/20  1/23/20  1/24/20  \\\n",
       "0            NaN    Afghanistan  33.0000  65.0000        0        0        0   \n",
       "1            NaN        Albania  41.1533  20.1683        0        0        0   \n",
       "2            NaN        Algeria  28.0339   1.6596        0        0        0   \n",
       "3            NaN        Andorra  42.5063   1.5218        0        0        0   \n",
       "4            NaN         Angola -11.2027  17.8739        0        0        0   \n",
       "\n",
       "   1/25/20  1/26/20  1/27/20  ...  5/19/20  5/20/20  5/21/20  5/22/20  \\\n",
       "0        0        0        0  ...      178      187      193      205   \n",
       "1        0        0        0  ...       31       31       31       31   \n",
       "2        0        0        0  ...      561      568      575      582   \n",
       "3        0        0        0  ...       51       51       51       51   \n",
       "4        0        0        0  ...        3        3        3        3   \n",
       "\n",
       "   5/23/20  5/24/20  5/25/20  5/26/20  5/27/20  5/28/20  \n",
       "0      216      218      219      220      227      235  \n",
       "1       31       32       32       33       33       33  \n",
       "2      592      600      609      617      623      630  \n",
       "3       51       51       51       51       51       51  \n",
       "4        4        4        4        4        4        4  \n",
       "\n",
       "[5 rows x 132 columns]"
      ]
     },
     "execution_count": 9,
     "metadata": {},
     "output_type": "execute_result"
    }
   ],
   "source": [
    "df_dead.head()"
   ]
  },
  {
   "cell_type": "code",
   "execution_count": 10,
   "metadata": {},
   "outputs": [],
   "source": [
    "df_dead1 = df_dead[df_dead[\"Country/Region\"] == country]"
   ]
  },
  {
   "cell_type": "code",
   "execution_count": 11,
   "metadata": {},
   "outputs": [
    {
     "data": {
      "text/html": [
       "<div>\n",
       "<style scoped>\n",
       "    .dataframe tbody tr th:only-of-type {\n",
       "        vertical-align: middle;\n",
       "    }\n",
       "\n",
       "    .dataframe tbody tr th {\n",
       "        vertical-align: top;\n",
       "    }\n",
       "\n",
       "    .dataframe thead th {\n",
       "        text-align: right;\n",
       "    }\n",
       "</style>\n",
       "<table border=\"1\" class=\"dataframe\">\n",
       "  <thead>\n",
       "    <tr style=\"text-align: right;\">\n",
       "      <th></th>\n",
       "      <th>dead</th>\n",
       "    </tr>\n",
       "  </thead>\n",
       "  <tbody>\n",
       "    <tr>\n",
       "      <th>2020-05-24</th>\n",
       "      <td>3</td>\n",
       "    </tr>\n",
       "    <tr>\n",
       "      <th>2020-05-25</th>\n",
       "      <td>4</td>\n",
       "    </tr>\n",
       "    <tr>\n",
       "      <th>2020-05-26</th>\n",
       "      <td>4</td>\n",
       "    </tr>\n",
       "    <tr>\n",
       "      <th>2020-05-27</th>\n",
       "      <td>4</td>\n",
       "    </tr>\n",
       "    <tr>\n",
       "      <th>2020-05-28</th>\n",
       "      <td>5</td>\n",
       "    </tr>\n",
       "  </tbody>\n",
       "</table>\n",
       "</div>"
      ],
      "text/plain": [
       "            dead\n",
       "2020-05-24     3\n",
       "2020-05-25     4\n",
       "2020-05-26     4\n",
       "2020-05-27     4\n",
       "2020-05-28     5"
      ]
     },
     "execution_count": 11,
     "metadata": {},
     "output_type": "execute_result"
    }
   ],
   "source": [
    "df_dead2 = pd.DataFrame(df_dead1[df_dead1.columns[4:]].sum(),columns=[\"dead\"])\n",
    "df_dead2.index = pd.to_datetime(df_dead2.index,format='%m/%d/%y')\n",
    "df_dead2.tail()"
   ]
  },
  {
   "cell_type": "code",
   "execution_count": 12,
   "metadata": {},
   "outputs": [],
   "source": [
    "df_recovered = pd.read_csv(\"https://raw.githubusercontent.com/CSSEGISandData/COVID-19/master/csse_covid_19_data/csse_covid_19_time_series/time_series_covid19_recovered_global.csv\")"
   ]
  },
  {
   "cell_type": "code",
   "execution_count": 13,
   "metadata": {},
   "outputs": [
    {
     "data": {
      "text/html": [
       "<div>\n",
       "<style scoped>\n",
       "    .dataframe tbody tr th:only-of-type {\n",
       "        vertical-align: middle;\n",
       "    }\n",
       "\n",
       "    .dataframe tbody tr th {\n",
       "        vertical-align: top;\n",
       "    }\n",
       "\n",
       "    .dataframe thead th {\n",
       "        text-align: right;\n",
       "    }\n",
       "</style>\n",
       "<table border=\"1\" class=\"dataframe\">\n",
       "  <thead>\n",
       "    <tr style=\"text-align: right;\">\n",
       "      <th></th>\n",
       "      <th>Province/State</th>\n",
       "      <th>Country/Region</th>\n",
       "      <th>Lat</th>\n",
       "      <th>Long</th>\n",
       "      <th>1/22/20</th>\n",
       "      <th>1/23/20</th>\n",
       "      <th>1/24/20</th>\n",
       "      <th>1/25/20</th>\n",
       "      <th>1/26/20</th>\n",
       "      <th>1/27/20</th>\n",
       "      <th>...</th>\n",
       "      <th>5/19/20</th>\n",
       "      <th>5/20/20</th>\n",
       "      <th>5/21/20</th>\n",
       "      <th>5/22/20</th>\n",
       "      <th>5/23/20</th>\n",
       "      <th>5/24/20</th>\n",
       "      <th>5/25/20</th>\n",
       "      <th>5/26/20</th>\n",
       "      <th>5/27/20</th>\n",
       "      <th>5/28/20</th>\n",
       "    </tr>\n",
       "  </thead>\n",
       "  <tbody>\n",
       "    <tr>\n",
       "      <th>0</th>\n",
       "      <td>NaN</td>\n",
       "      <td>Afghanistan</td>\n",
       "      <td>33.0000</td>\n",
       "      <td>65.0000</td>\n",
       "      <td>0</td>\n",
       "      <td>0</td>\n",
       "      <td>0</td>\n",
       "      <td>0</td>\n",
       "      <td>0</td>\n",
       "      <td>0</td>\n",
       "      <td>...</td>\n",
       "      <td>850</td>\n",
       "      <td>930</td>\n",
       "      <td>938</td>\n",
       "      <td>996</td>\n",
       "      <td>1040</td>\n",
       "      <td>1075</td>\n",
       "      <td>1097</td>\n",
       "      <td>1128</td>\n",
       "      <td>1138</td>\n",
       "      <td>1209</td>\n",
       "    </tr>\n",
       "    <tr>\n",
       "      <th>1</th>\n",
       "      <td>NaN</td>\n",
       "      <td>Albania</td>\n",
       "      <td>41.1533</td>\n",
       "      <td>20.1683</td>\n",
       "      <td>0</td>\n",
       "      <td>0</td>\n",
       "      <td>0</td>\n",
       "      <td>0</td>\n",
       "      <td>0</td>\n",
       "      <td>0</td>\n",
       "      <td>...</td>\n",
       "      <td>742</td>\n",
       "      <td>758</td>\n",
       "      <td>771</td>\n",
       "      <td>777</td>\n",
       "      <td>783</td>\n",
       "      <td>789</td>\n",
       "      <td>795</td>\n",
       "      <td>803</td>\n",
       "      <td>812</td>\n",
       "      <td>823</td>\n",
       "    </tr>\n",
       "    <tr>\n",
       "      <th>2</th>\n",
       "      <td>NaN</td>\n",
       "      <td>Algeria</td>\n",
       "      <td>28.0339</td>\n",
       "      <td>1.6596</td>\n",
       "      <td>0</td>\n",
       "      <td>0</td>\n",
       "      <td>0</td>\n",
       "      <td>0</td>\n",
       "      <td>0</td>\n",
       "      <td>0</td>\n",
       "      <td>...</td>\n",
       "      <td>3746</td>\n",
       "      <td>3968</td>\n",
       "      <td>4062</td>\n",
       "      <td>4256</td>\n",
       "      <td>4426</td>\n",
       "      <td>4784</td>\n",
       "      <td>4747</td>\n",
       "      <td>4918</td>\n",
       "      <td>5129</td>\n",
       "      <td>5277</td>\n",
       "    </tr>\n",
       "    <tr>\n",
       "      <th>3</th>\n",
       "      <td>NaN</td>\n",
       "      <td>Andorra</td>\n",
       "      <td>42.5063</td>\n",
       "      <td>1.5218</td>\n",
       "      <td>0</td>\n",
       "      <td>0</td>\n",
       "      <td>0</td>\n",
       "      <td>0</td>\n",
       "      <td>0</td>\n",
       "      <td>0</td>\n",
       "      <td>...</td>\n",
       "      <td>628</td>\n",
       "      <td>639</td>\n",
       "      <td>639</td>\n",
       "      <td>652</td>\n",
       "      <td>653</td>\n",
       "      <td>653</td>\n",
       "      <td>663</td>\n",
       "      <td>676</td>\n",
       "      <td>676</td>\n",
       "      <td>681</td>\n",
       "    </tr>\n",
       "    <tr>\n",
       "      <th>4</th>\n",
       "      <td>NaN</td>\n",
       "      <td>Angola</td>\n",
       "      <td>-11.2027</td>\n",
       "      <td>17.8739</td>\n",
       "      <td>0</td>\n",
       "      <td>0</td>\n",
       "      <td>0</td>\n",
       "      <td>0</td>\n",
       "      <td>0</td>\n",
       "      <td>0</td>\n",
       "      <td>...</td>\n",
       "      <td>17</td>\n",
       "      <td>17</td>\n",
       "      <td>17</td>\n",
       "      <td>17</td>\n",
       "      <td>18</td>\n",
       "      <td>18</td>\n",
       "      <td>18</td>\n",
       "      <td>18</td>\n",
       "      <td>18</td>\n",
       "      <td>18</td>\n",
       "    </tr>\n",
       "  </tbody>\n",
       "</table>\n",
       "<p>5 rows × 132 columns</p>\n",
       "</div>"
      ],
      "text/plain": [
       "  Province/State Country/Region      Lat     Long  1/22/20  1/23/20  1/24/20  \\\n",
       "0            NaN    Afghanistan  33.0000  65.0000        0        0        0   \n",
       "1            NaN        Albania  41.1533  20.1683        0        0        0   \n",
       "2            NaN        Algeria  28.0339   1.6596        0        0        0   \n",
       "3            NaN        Andorra  42.5063   1.5218        0        0        0   \n",
       "4            NaN         Angola -11.2027  17.8739        0        0        0   \n",
       "\n",
       "   1/25/20  1/26/20  1/27/20  ...  5/19/20  5/20/20  5/21/20  5/22/20  \\\n",
       "0        0        0        0  ...      850      930      938      996   \n",
       "1        0        0        0  ...      742      758      771      777   \n",
       "2        0        0        0  ...     3746     3968     4062     4256   \n",
       "3        0        0        0  ...      628      639      639      652   \n",
       "4        0        0        0  ...       17       17       17       17   \n",
       "\n",
       "   5/23/20  5/24/20  5/25/20  5/26/20  5/27/20  5/28/20  \n",
       "0     1040     1075     1097     1128     1138     1209  \n",
       "1      783      789      795      803      812      823  \n",
       "2     4426     4784     4747     4918     5129     5277  \n",
       "3      653      653      663      676      676      681  \n",
       "4       18       18       18       18       18       18  \n",
       "\n",
       "[5 rows x 132 columns]"
      ]
     },
     "execution_count": 13,
     "metadata": {},
     "output_type": "execute_result"
    }
   ],
   "source": [
    "df_recovered.head()"
   ]
  },
  {
   "cell_type": "code",
   "execution_count": 14,
   "metadata": {},
   "outputs": [],
   "source": [
    "df_recovered1 = df_recovered[df_recovered[\"Country/Region\"] == country]"
   ]
  },
  {
   "cell_type": "code",
   "execution_count": 15,
   "metadata": {},
   "outputs": [
    {
     "data": {
      "text/html": [
       "<div>\n",
       "<style scoped>\n",
       "    .dataframe tbody tr th:only-of-type {\n",
       "        vertical-align: middle;\n",
       "    }\n",
       "\n",
       "    .dataframe tbody tr th {\n",
       "        vertical-align: top;\n",
       "    }\n",
       "\n",
       "    .dataframe thead th {\n",
       "        text-align: right;\n",
       "    }\n",
       "</style>\n",
       "<table border=\"1\" class=\"dataframe\">\n",
       "  <thead>\n",
       "    <tr style=\"text-align: right;\">\n",
       "      <th></th>\n",
       "      <th>Province/State</th>\n",
       "      <th>Country/Region</th>\n",
       "      <th>Lat</th>\n",
       "      <th>Long</th>\n",
       "      <th>1/22/20</th>\n",
       "      <th>1/23/20</th>\n",
       "      <th>1/24/20</th>\n",
       "      <th>1/25/20</th>\n",
       "      <th>1/26/20</th>\n",
       "      <th>1/27/20</th>\n",
       "      <th>...</th>\n",
       "      <th>5/19/20</th>\n",
       "      <th>5/20/20</th>\n",
       "      <th>5/21/20</th>\n",
       "      <th>5/22/20</th>\n",
       "      <th>5/23/20</th>\n",
       "      <th>5/24/20</th>\n",
       "      <th>5/25/20</th>\n",
       "      <th>5/26/20</th>\n",
       "      <th>5/27/20</th>\n",
       "      <th>5/28/20</th>\n",
       "    </tr>\n",
       "  </thead>\n",
       "  <tbody>\n",
       "    <tr>\n",
       "      <th>162</th>\n",
       "      <td>NaN</td>\n",
       "      <td>Nepal</td>\n",
       "      <td>28.1667</td>\n",
       "      <td>84.25</td>\n",
       "      <td>0</td>\n",
       "      <td>0</td>\n",
       "      <td>0</td>\n",
       "      <td>0</td>\n",
       "      <td>0</td>\n",
       "      <td>0</td>\n",
       "      <td>...</td>\n",
       "      <td>37</td>\n",
       "      <td>45</td>\n",
       "      <td>49</td>\n",
       "      <td>70</td>\n",
       "      <td>70</td>\n",
       "      <td>87</td>\n",
       "      <td>112</td>\n",
       "      <td>155</td>\n",
       "      <td>183</td>\n",
       "      <td>187</td>\n",
       "    </tr>\n",
       "  </tbody>\n",
       "</table>\n",
       "<p>1 rows × 132 columns</p>\n",
       "</div>"
      ],
      "text/plain": [
       "    Province/State Country/Region      Lat   Long  1/22/20  1/23/20  1/24/20  \\\n",
       "162            NaN          Nepal  28.1667  84.25        0        0        0   \n",
       "\n",
       "     1/25/20  1/26/20  1/27/20  ...  5/19/20  5/20/20  5/21/20  5/22/20  \\\n",
       "162        0        0        0  ...       37       45       49       70   \n",
       "\n",
       "     5/23/20  5/24/20  5/25/20  5/26/20  5/27/20  5/28/20  \n",
       "162       70       87      112      155      183      187  \n",
       "\n",
       "[1 rows x 132 columns]"
      ]
     },
     "execution_count": 15,
     "metadata": {},
     "output_type": "execute_result"
    }
   ],
   "source": [
    "df_recovered1"
   ]
  },
  {
   "cell_type": "code",
   "execution_count": 16,
   "metadata": {},
   "outputs": [
    {
     "data": {
      "text/html": [
       "<div>\n",
       "<style scoped>\n",
       "    .dataframe tbody tr th:only-of-type {\n",
       "        vertical-align: middle;\n",
       "    }\n",
       "\n",
       "    .dataframe tbody tr th {\n",
       "        vertical-align: top;\n",
       "    }\n",
       "\n",
       "    .dataframe thead th {\n",
       "        text-align: right;\n",
       "    }\n",
       "</style>\n",
       "<table border=\"1\" class=\"dataframe\">\n",
       "  <thead>\n",
       "    <tr style=\"text-align: right;\">\n",
       "      <th></th>\n",
       "      <th>recovered</th>\n",
       "    </tr>\n",
       "  </thead>\n",
       "  <tbody>\n",
       "    <tr>\n",
       "      <th>2020-05-24</th>\n",
       "      <td>87</td>\n",
       "    </tr>\n",
       "    <tr>\n",
       "      <th>2020-05-25</th>\n",
       "      <td>112</td>\n",
       "    </tr>\n",
       "    <tr>\n",
       "      <th>2020-05-26</th>\n",
       "      <td>155</td>\n",
       "    </tr>\n",
       "    <tr>\n",
       "      <th>2020-05-27</th>\n",
       "      <td>183</td>\n",
       "    </tr>\n",
       "    <tr>\n",
       "      <th>2020-05-28</th>\n",
       "      <td>187</td>\n",
       "    </tr>\n",
       "  </tbody>\n",
       "</table>\n",
       "</div>"
      ],
      "text/plain": [
       "            recovered\n",
       "2020-05-24         87\n",
       "2020-05-25        112\n",
       "2020-05-26        155\n",
       "2020-05-27        183\n",
       "2020-05-28        187"
      ]
     },
     "execution_count": 16,
     "metadata": {},
     "output_type": "execute_result"
    }
   ],
   "source": [
    "df_recovered2 = pd.DataFrame(df_recovered1[df_recovered1.columns[4:]].sum(),columns=[\"recovered\"])\n",
    "df_recovered2.index = pd.to_datetime(df_recovered2.index,format='%m/%d/%y')\n",
    "df_recovered2.tail()"
   ]
  },
  {
   "cell_type": "code",
   "execution_count": 17,
   "metadata": {},
   "outputs": [
    {
     "data": {
      "text/html": [
       "<div>\n",
       "<style scoped>\n",
       "    .dataframe tbody tr th:only-of-type {\n",
       "        vertical-align: middle;\n",
       "    }\n",
       "\n",
       "    .dataframe tbody tr th {\n",
       "        vertical-align: top;\n",
       "    }\n",
       "\n",
       "    .dataframe thead th {\n",
       "        text-align: right;\n",
       "    }\n",
       "</style>\n",
       "<table border=\"1\" class=\"dataframe\">\n",
       "  <thead>\n",
       "    <tr style=\"text-align: right;\">\n",
       "      <th></th>\n",
       "      <th>confirmed</th>\n",
       "      <th>dead</th>\n",
       "    </tr>\n",
       "  </thead>\n",
       "  <tbody>\n",
       "    <tr>\n",
       "      <th>2020-01-22</th>\n",
       "      <td>0</td>\n",
       "      <td>0</td>\n",
       "    </tr>\n",
       "    <tr>\n",
       "      <th>2020-01-23</th>\n",
       "      <td>0</td>\n",
       "      <td>0</td>\n",
       "    </tr>\n",
       "    <tr>\n",
       "      <th>2020-01-24</th>\n",
       "      <td>0</td>\n",
       "      <td>0</td>\n",
       "    </tr>\n",
       "    <tr>\n",
       "      <th>2020-01-25</th>\n",
       "      <td>1</td>\n",
       "      <td>0</td>\n",
       "    </tr>\n",
       "    <tr>\n",
       "      <th>2020-01-26</th>\n",
       "      <td>1</td>\n",
       "      <td>0</td>\n",
       "    </tr>\n",
       "    <tr>\n",
       "      <th>...</th>\n",
       "      <td>...</td>\n",
       "      <td>...</td>\n",
       "    </tr>\n",
       "    <tr>\n",
       "      <th>2020-05-24</th>\n",
       "      <td>603</td>\n",
       "      <td>3</td>\n",
       "    </tr>\n",
       "    <tr>\n",
       "      <th>2020-05-25</th>\n",
       "      <td>682</td>\n",
       "      <td>4</td>\n",
       "    </tr>\n",
       "    <tr>\n",
       "      <th>2020-05-26</th>\n",
       "      <td>772</td>\n",
       "      <td>4</td>\n",
       "    </tr>\n",
       "    <tr>\n",
       "      <th>2020-05-27</th>\n",
       "      <td>886</td>\n",
       "      <td>4</td>\n",
       "    </tr>\n",
       "    <tr>\n",
       "      <th>2020-05-28</th>\n",
       "      <td>1042</td>\n",
       "      <td>5</td>\n",
       "    </tr>\n",
       "  </tbody>\n",
       "</table>\n",
       "<p>128 rows × 2 columns</p>\n",
       "</div>"
      ],
      "text/plain": [
       "            confirmed  dead\n",
       "2020-01-22          0     0\n",
       "2020-01-23          0     0\n",
       "2020-01-24          0     0\n",
       "2020-01-25          1     0\n",
       "2020-01-26          1     0\n",
       "...               ...   ...\n",
       "2020-05-24        603     3\n",
       "2020-05-25        682     4\n",
       "2020-05-26        772     4\n",
       "2020-05-27        886     4\n",
       "2020-05-28       1042     5\n",
       "\n",
       "[128 rows x 2 columns]"
      ]
     },
     "execution_count": 17,
     "metadata": {},
     "output_type": "execute_result"
    }
   ],
   "source": [
    "##join confirmed with dead\n",
    "df_conf_dead = df_confirmed2.join(df_dead2,how = \"inner\")\n",
    "df_conf_dead"
   ]
  },
  {
   "cell_type": "code",
   "execution_count": 18,
   "metadata": {},
   "outputs": [
    {
     "data": {
      "text/html": [
       "<div>\n",
       "<style scoped>\n",
       "    .dataframe tbody tr th:only-of-type {\n",
       "        vertical-align: middle;\n",
       "    }\n",
       "\n",
       "    .dataframe tbody tr th {\n",
       "        vertical-align: top;\n",
       "    }\n",
       "\n",
       "    .dataframe thead th {\n",
       "        text-align: right;\n",
       "    }\n",
       "</style>\n",
       "<table border=\"1\" class=\"dataframe\">\n",
       "  <thead>\n",
       "    <tr style=\"text-align: right;\">\n",
       "      <th></th>\n",
       "      <th>confirmed</th>\n",
       "      <th>dead</th>\n",
       "      <th>recovered</th>\n",
       "    </tr>\n",
       "  </thead>\n",
       "  <tbody>\n",
       "    <tr>\n",
       "      <th>2020-01-22</th>\n",
       "      <td>0</td>\n",
       "      <td>0</td>\n",
       "      <td>0</td>\n",
       "    </tr>\n",
       "    <tr>\n",
       "      <th>2020-01-23</th>\n",
       "      <td>0</td>\n",
       "      <td>0</td>\n",
       "      <td>0</td>\n",
       "    </tr>\n",
       "    <tr>\n",
       "      <th>2020-01-24</th>\n",
       "      <td>0</td>\n",
       "      <td>0</td>\n",
       "      <td>0</td>\n",
       "    </tr>\n",
       "    <tr>\n",
       "      <th>2020-01-25</th>\n",
       "      <td>1</td>\n",
       "      <td>0</td>\n",
       "      <td>0</td>\n",
       "    </tr>\n",
       "    <tr>\n",
       "      <th>2020-01-26</th>\n",
       "      <td>1</td>\n",
       "      <td>0</td>\n",
       "      <td>0</td>\n",
       "    </tr>\n",
       "    <tr>\n",
       "      <th>...</th>\n",
       "      <td>...</td>\n",
       "      <td>...</td>\n",
       "      <td>...</td>\n",
       "    </tr>\n",
       "    <tr>\n",
       "      <th>2020-05-24</th>\n",
       "      <td>603</td>\n",
       "      <td>3</td>\n",
       "      <td>87</td>\n",
       "    </tr>\n",
       "    <tr>\n",
       "      <th>2020-05-25</th>\n",
       "      <td>682</td>\n",
       "      <td>4</td>\n",
       "      <td>112</td>\n",
       "    </tr>\n",
       "    <tr>\n",
       "      <th>2020-05-26</th>\n",
       "      <td>772</td>\n",
       "      <td>4</td>\n",
       "      <td>155</td>\n",
       "    </tr>\n",
       "    <tr>\n",
       "      <th>2020-05-27</th>\n",
       "      <td>886</td>\n",
       "      <td>4</td>\n",
       "      <td>183</td>\n",
       "    </tr>\n",
       "    <tr>\n",
       "      <th>2020-05-28</th>\n",
       "      <td>1042</td>\n",
       "      <td>5</td>\n",
       "      <td>187</td>\n",
       "    </tr>\n",
       "  </tbody>\n",
       "</table>\n",
       "<p>128 rows × 3 columns</p>\n",
       "</div>"
      ],
      "text/plain": [
       "            confirmed  dead  recovered\n",
       "2020-01-22          0     0          0\n",
       "2020-01-23          0     0          0\n",
       "2020-01-24          0     0          0\n",
       "2020-01-25          1     0          0\n",
       "2020-01-26          1     0          0\n",
       "...               ...   ...        ...\n",
       "2020-05-24        603     3         87\n",
       "2020-05-25        682     4        112\n",
       "2020-05-26        772     4        155\n",
       "2020-05-27        886     4        183\n",
       "2020-05-28       1042     5        187\n",
       "\n",
       "[128 rows x 3 columns]"
      ]
     },
     "execution_count": 18,
     "metadata": {},
     "output_type": "execute_result"
    }
   ],
   "source": [
    "## join confirmed+dead with recovered\n",
    "df_all = df_conf_dead.join(df_recovered2,how = \"inner\")\n",
    "df_all"
   ]
  },
  {
   "cell_type": "code",
   "execution_count": 19,
   "metadata": {},
   "outputs": [
    {
     "data": {
      "text/plain": [
       "<matplotlib.axes._subplots.AxesSubplot at 0x1d192f9e448>"
      ]
     },
     "execution_count": 19,
     "metadata": {},
     "output_type": "execute_result"
    },
    {
     "data": {
      "image/png": "[encoded data removed]",
      "text/plain": [
       "<Figure size 720x360 with 1 Axes>"
      ]
     },
     "metadata": {
      "needs_background": "light"
     },
     "output_type": "display_data"
    }
   ],
   "source": [
    "#plt.figure(figsize=(5,5))\n",
    "df_all.plot(figsize=(10,5),title=\"Nepal\")"
   ]
  },
  {
   "cell_type": "code",
   "execution_count": 20,
   "metadata": {},
   "outputs": [
    {
     "data": {
      "text/plain": [
       "<matplotlib.axes._subplots.AxesSubplot at 0x1d193849f48>"
      ]
     },
     "execution_count": 20,
     "metadata": {},
     "output_type": "execute_result"
    },
    {
     "data": {
      "image/png": "[encoded data removed]",
      "text/plain": [
       "<Figure size 432x288 with 1 Axes>"
      ]
     },
     "metadata": {
      "needs_background": "light"
     },
     "output_type": "display_data"
    }
   ],
   "source": [
    "df_confirmed2.plot(title=\"Nepal-Confirmed cases\")"
   ]
  },
  {
   "cell_type": "code",
   "execution_count": 21,
   "metadata": {},
   "outputs": [
    {
     "data": {
      "text/html": [
       "<div>\n",
       "<style scoped>\n",
       "    .dataframe tbody tr th:only-of-type {\n",
       "        vertical-align: middle;\n",
       "    }\n",
       "\n",
       "    .dataframe tbody tr th {\n",
       "        vertical-align: top;\n",
       "    }\n",
       "\n",
       "    .dataframe thead th {\n",
       "        text-align: right;\n",
       "    }\n",
       "</style>\n",
       "<table border=\"1\" class=\"dataframe\">\n",
       "  <thead>\n",
       "    <tr style=\"text-align: right;\">\n",
       "      <th></th>\n",
       "      <th>confirmed</th>\n",
       "    </tr>\n",
       "  </thead>\n",
       "  <tbody>\n",
       "    <tr>\n",
       "      <th>2020-05-19</th>\n",
       "      <td>402</td>\n",
       "    </tr>\n",
       "    <tr>\n",
       "      <th>2020-05-20</th>\n",
       "      <td>427</td>\n",
       "    </tr>\n",
       "    <tr>\n",
       "      <th>2020-05-21</th>\n",
       "      <td>457</td>\n",
       "    </tr>\n",
       "    <tr>\n",
       "      <th>2020-05-22</th>\n",
       "      <td>516</td>\n",
       "    </tr>\n",
       "    <tr>\n",
       "      <th>2020-05-23</th>\n",
       "      <td>584</td>\n",
       "    </tr>\n",
       "    <tr>\n",
       "      <th>2020-05-24</th>\n",
       "      <td>603</td>\n",
       "    </tr>\n",
       "    <tr>\n",
       "      <th>2020-05-25</th>\n",
       "      <td>682</td>\n",
       "    </tr>\n",
       "    <tr>\n",
       "      <th>2020-05-26</th>\n",
       "      <td>772</td>\n",
       "    </tr>\n",
       "    <tr>\n",
       "      <th>2020-05-27</th>\n",
       "      <td>886</td>\n",
       "    </tr>\n",
       "    <tr>\n",
       "      <th>2020-05-28</th>\n",
       "      <td>1042</td>\n",
       "    </tr>\n",
       "  </tbody>\n",
       "</table>\n",
       "</div>"
      ],
      "text/plain": [
       "            confirmed\n",
       "2020-05-19        402\n",
       "2020-05-20        427\n",
       "2020-05-21        457\n",
       "2020-05-22        516\n",
       "2020-05-23        584\n",
       "2020-05-24        603\n",
       "2020-05-25        682\n",
       "2020-05-26        772\n",
       "2020-05-27        886\n",
       "2020-05-28       1042"
      ]
     },
     "execution_count": 21,
     "metadata": {},
     "output_type": "execute_result"
    }
   ],
   "source": [
    "df_new = df_confirmed2[[\"confirmed\"]]\n",
    "df_new.tail(10)"
   ]
  },
  {
   "cell_type": "code",
   "execution_count": 22,
   "metadata": {},
   "outputs": [
    {
     "data": {
      "text/plain": [
       "128"
      ]
     },
     "execution_count": 22,
     "metadata": {},
     "output_type": "execute_result"
    }
   ],
   "source": [
    "#daily data and i want to predict 5 days afterwards\n",
    "len(df_new)"
   ]
  },
  {
   "cell_type": "code",
   "execution_count": 23,
   "metadata": {},
   "outputs": [
    {
     "data": {
      "text/plain": [
       "123"
      ]
     },
     "execution_count": 23,
     "metadata": {},
     "output_type": "execute_result"
    }
   ],
   "source": [
    "\n",
    "x = len(df_new)-5\n",
    "x"
   ]
  },
  {
   "cell_type": "code",
   "execution_count": 24,
   "metadata": {},
   "outputs": [
    {
     "data": {
      "text/html": [
       "<div>\n",
       "<style scoped>\n",
       "    .dataframe tbody tr th:only-of-type {\n",
       "        vertical-align: middle;\n",
       "    }\n",
       "\n",
       "    .dataframe tbody tr th {\n",
       "        vertical-align: top;\n",
       "    }\n",
       "\n",
       "    .dataframe thead th {\n",
       "        text-align: right;\n",
       "    }\n",
       "</style>\n",
       "<table border=\"1\" class=\"dataframe\">\n",
       "  <thead>\n",
       "    <tr style=\"text-align: right;\">\n",
       "      <th></th>\n",
       "      <th>confirmed</th>\n",
       "    </tr>\n",
       "  </thead>\n",
       "  <tbody>\n",
       "    <tr>\n",
       "      <th>2020-01-22</th>\n",
       "      <td>0</td>\n",
       "    </tr>\n",
       "    <tr>\n",
       "      <th>2020-01-23</th>\n",
       "      <td>0</td>\n",
       "    </tr>\n",
       "    <tr>\n",
       "      <th>2020-01-24</th>\n",
       "      <td>0</td>\n",
       "    </tr>\n",
       "    <tr>\n",
       "      <th>2020-01-25</th>\n",
       "      <td>1</td>\n",
       "    </tr>\n",
       "    <tr>\n",
       "      <th>2020-01-26</th>\n",
       "      <td>1</td>\n",
       "    </tr>\n",
       "    <tr>\n",
       "      <th>...</th>\n",
       "      <td>...</td>\n",
       "    </tr>\n",
       "    <tr>\n",
       "      <th>2020-05-19</th>\n",
       "      <td>402</td>\n",
       "    </tr>\n",
       "    <tr>\n",
       "      <th>2020-05-20</th>\n",
       "      <td>427</td>\n",
       "    </tr>\n",
       "    <tr>\n",
       "      <th>2020-05-21</th>\n",
       "      <td>457</td>\n",
       "    </tr>\n",
       "    <tr>\n",
       "      <th>2020-05-22</th>\n",
       "      <td>516</td>\n",
       "    </tr>\n",
       "    <tr>\n",
       "      <th>2020-05-23</th>\n",
       "      <td>584</td>\n",
       "    </tr>\n",
       "  </tbody>\n",
       "</table>\n",
       "<p>123 rows × 1 columns</p>\n",
       "</div>"
      ],
      "text/plain": [
       "            confirmed\n",
       "2020-01-22          0\n",
       "2020-01-23          0\n",
       "2020-01-24          0\n",
       "2020-01-25          1\n",
       "2020-01-26          1\n",
       "...               ...\n",
       "2020-05-19        402\n",
       "2020-05-20        427\n",
       "2020-05-21        457\n",
       "2020-05-22        516\n",
       "2020-05-23        584\n",
       "\n",
       "[123 rows x 1 columns]"
      ]
     },
     "execution_count": 24,
     "metadata": {},
     "output_type": "execute_result"
    }
   ],
   "source": [
    "train=df_new.iloc[:x]\n",
    "test = df_new.iloc[x:]\n",
    "train"
   ]
  },
  {
   "cell_type": "code",
   "execution_count": 25,
   "metadata": {},
   "outputs": [],
   "source": [
    "\n",
    "##scale or normalize data as the data is too skewed\n",
    "from sklearn.preprocessing import MinMaxScaler\n",
    "scaler = MinMaxScaler()"
   ]
  },
  {
   "cell_type": "code",
   "execution_count": 26,
   "metadata": {},
   "outputs": [
    {
     "data": {
      "text/plain": [
       "MinMaxScaler(copy=True, feature_range=(0, 1))"
      ]
     },
     "execution_count": 26,
     "metadata": {},
     "output_type": "execute_result"
    }
   ],
   "source": [
    "scaler.fit(train) #find max value"
   ]
  },
  {
   "cell_type": "code",
   "execution_count": 27,
   "metadata": {},
   "outputs": [
    {
     "name": "stdout",
     "output_type": "stream",
     "text": [
      "[[0.68835616]\n",
      " [0.73116438]\n",
      " [0.78253425]\n",
      " [0.88356164]\n",
      " [1.        ]]\n"
     ]
    }
   ],
   "source": [
    "scaled_train = scaler.transform(train)#and divide every point by max value\n",
    "scaled_test = scaler.transform(test)\n",
    "print(scaled_train[-5:])"
   ]
  },
  {
   "cell_type": "code",
   "execution_count": 28,
   "metadata": {},
   "outputs": [
    {
     "name": "stderr",
     "output_type": "stream",
     "text": [
      "Using TensorFlow backend.\n",
      "E:\\Users\\UserTC\\anaconda3\\lib\\site-packages\\tensorflow\\python\\framework\\dtypes.py:516: FutureWarning: Passing (type, 1) or '1type' as a synonym of type is deprecated; in a future version of numpy, it will be understood as (type, (1,)) / '(1,)type'.\n",
      "  _np_qint8 = np.dtype([(\"qint8\", np.int8, 1)])\n",
      "E:\\Users\\UserTC\\anaconda3\\lib\\site-packages\\tensorflow\\python\\framework\\dtypes.py:517: FutureWarning: Passing (type, 1) or '1type' as a synonym of type is deprecated; in a future version of numpy, it will be understood as (type, (1,)) / '(1,)type'.\n",
      "  _np_quint8 = np.dtype([(\"quint8\", np.uint8, 1)])\n",
      "E:\\Users\\UserTC\\anaconda3\\lib\\site-packages\\tensorflow\\python\\framework\\dtypes.py:518: FutureWarning: Passing (type, 1) or '1type' as a synonym of type is deprecated; in a future version of numpy, it will be understood as (type, (1,)) / '(1,)type'.\n",
      "  _np_qint16 = np.dtype([(\"qint16\", np.int16, 1)])\n",
      "E:\\Users\\UserTC\\anaconda3\\lib\\site-packages\\tensorflow\\python\\framework\\dtypes.py:519: FutureWarning: Passing (type, 1) or '1type' as a synonym of type is deprecated; in a future version of numpy, it will be understood as (type, (1,)) / '(1,)type'.\n",
      "  _np_quint16 = np.dtype([(\"quint16\", np.uint16, 1)])\n",
      "E:\\Users\\UserTC\\anaconda3\\lib\\site-packages\\tensorflow\\python\\framework\\dtypes.py:520: FutureWarning: Passing (type, 1) or '1type' as a synonym of type is deprecated; in a future version of numpy, it will be understood as (type, (1,)) / '(1,)type'.\n",
      "  _np_qint32 = np.dtype([(\"qint32\", np.int32, 1)])\n",
      "E:\\Users\\UserTC\\anaconda3\\lib\\site-packages\\tensorflow\\python\\framework\\dtypes.py:525: FutureWarning: Passing (type, 1) or '1type' as a synonym of type is deprecated; in a future version of numpy, it will be understood as (type, (1,)) / '(1,)type'.\n",
      "  np_resource = np.dtype([(\"resource\", np.ubyte, 1)])\n",
      "E:\\Users\\UserTC\\anaconda3\\lib\\site-packages\\tensorboard\\compat\\tensorflow_stub\\dtypes.py:541: FutureWarning: Passing (type, 1) or '1type' as a synonym of type is deprecated; in a future version of numpy, it will be understood as (type, (1,)) / '(1,)type'.\n",
      "  _np_qint8 = np.dtype([(\"qint8\", np.int8, 1)])\n",
      "E:\\Users\\UserTC\\anaconda3\\lib\\site-packages\\tensorboard\\compat\\tensorflow_stub\\dtypes.py:542: FutureWarning: Passing (type, 1) or '1type' as a synonym of type is deprecated; in a future version of numpy, it will be understood as (type, (1,)) / '(1,)type'.\n",
      "  _np_quint8 = np.dtype([(\"quint8\", np.uint8, 1)])\n",
      "E:\\Users\\UserTC\\anaconda3\\lib\\site-packages\\tensorboard\\compat\\tensorflow_stub\\dtypes.py:543: FutureWarning: Passing (type, 1) or '1type' as a synonym of type is deprecated; in a future version of numpy, it will be understood as (type, (1,)) / '(1,)type'.\n",
      "  _np_qint16 = np.dtype([(\"qint16\", np.int16, 1)])\n",
      "E:\\Users\\UserTC\\anaconda3\\lib\\site-packages\\tensorboard\\compat\\tensorflow_stub\\dtypes.py:544: FutureWarning: Passing (type, 1) or '1type' as a synonym of type is deprecated; in a future version of numpy, it will be understood as (type, (1,)) / '(1,)type'.\n",
      "  _np_quint16 = np.dtype([(\"quint16\", np.uint16, 1)])\n",
      "E:\\Users\\UserTC\\anaconda3\\lib\\site-packages\\tensorboard\\compat\\tensorflow_stub\\dtypes.py:545: FutureWarning: Passing (type, 1) or '1type' as a synonym of type is deprecated; in a future version of numpy, it will be understood as (type, (1,)) / '(1,)type'.\n",
      "  _np_qint32 = np.dtype([(\"qint32\", np.int32, 1)])\n",
      "E:\\Users\\UserTC\\anaconda3\\lib\\site-packages\\tensorboard\\compat\\tensorflow_stub\\dtypes.py:550: FutureWarning: Passing (type, 1) or '1type' as a synonym of type is deprecated; in a future version of numpy, it will be understood as (type, (1,)) / '(1,)type'.\n",
      "  np_resource = np.dtype([(\"resource\", np.ubyte, 1)])\n"
     ]
    }
   ],
   "source": [
    "## feed in batches [t1,t2,t3] --> t4\n",
    "from keras.preprocessing.sequence import TimeseriesGenerator"
   ]
  },
  {
   "cell_type": "code",
   "execution_count": 29,
   "metadata": {},
   "outputs": [
    {
     "data": {
      "text/plain": [
       "(123, 1)"
      ]
     },
     "execution_count": 29,
     "metadata": {},
     "output_type": "execute_result"
    }
   ],
   "source": [
    "scaled_train.shape"
   ]
  },
  {
   "cell_type": "code",
   "execution_count": 30,
   "metadata": {},
   "outputs": [],
   "source": [
    "## how to decide num of inputs , \n",
    "n_input = 5  ## number of steps\n",
    "n_features = 1 ## number of features you want to predict (for univariate time series n_features=1)\n",
    "generator = TimeseriesGenerator(scaled_train,scaled_train,length = n_input,batch_size=1)"
   ]
  },
  {
   "cell_type": "code",
   "execution_count": 31,
   "metadata": {},
   "outputs": [
    {
     "data": {
      "text/plain": [
       "123"
      ]
     },
     "execution_count": 31,
     "metadata": {},
     "output_type": "execute_result"
    }
   ],
   "source": [
    "len(scaled_train)"
   ]
  },
  {
   "cell_type": "code",
   "execution_count": 32,
   "metadata": {},
   "outputs": [
    {
     "data": {
      "text/plain": [
       "118"
      ]
     },
     "execution_count": 32,
     "metadata": {},
     "output_type": "execute_result"
    }
   ],
   "source": [
    "len(generator)"
   ]
  },
  {
   "cell_type": "code",
   "execution_count": 33,
   "metadata": {},
   "outputs": [],
   "source": [
    "x,y = generator[50]"
   ]
  },
  {
   "cell_type": "code",
   "execution_count": 34,
   "metadata": {},
   "outputs": [
    {
     "data": {
      "text/plain": [
       "((1, 5, 1), (1, 1))"
      ]
     },
     "execution_count": 34,
     "metadata": {},
     "output_type": "execute_result"
    }
   ],
   "source": [
    "(x.shape,y.shape)"
   ]
  },
  {
   "cell_type": "code",
   "execution_count": 35,
   "metadata": {},
   "outputs": [
    {
     "data": {
      "text/plain": [
       "(array([[[0.00171233],\n",
       "         [0.00171233],\n",
       "         [0.00171233],\n",
       "         [0.00171233],\n",
       "         [0.00171233]]]),\n",
       " array([[0.00171233]]))"
      ]
     },
     "execution_count": 35,
     "metadata": {},
     "output_type": "execute_result"
    }
   ],
   "source": [
    "(x,y)"
   ]
  },
  {
   "cell_type": "code",
   "execution_count": 36,
   "metadata": {},
   "outputs": [
    {
     "data": {
      "text/plain": [
       "array([[0.00171233]])"
      ]
     },
     "execution_count": 36,
     "metadata": {},
     "output_type": "execute_result"
    }
   ],
   "source": [
    "\n",
    "y"
   ]
  },
  {
   "cell_type": "code",
   "execution_count": 37,
   "metadata": {},
   "outputs": [],
   "source": [
    "\n",
    "from keras.models import Sequential\n",
    "from keras.layers import Dense, LSTM, Dropout, Activation"
   ]
  },
  {
   "cell_type": "code",
   "execution_count": 38,
   "metadata": {},
   "outputs": [],
   "source": [
    "model = Sequential()\n",
    "model.add(LSTM(150,activation=\"relu\",input_shape=(n_input,n_features)))\n",
    "#model.add(Dropout(0.2))\n",
    "model.add(Dense(75, activation='relu'))\n",
    "model.add(Dense(units=1))\n",
    "#model.add(Activation('softmax'))\n",
    "#model.add(Dense(1))\n",
    "model.compile(optimizer=\"adam\",loss=\"mse\")"
   ]
  },
  {
   "cell_type": "code",
   "execution_count": 39,
   "metadata": {},
   "outputs": [
    {
     "name": "stdout",
     "output_type": "stream",
     "text": [
      "Model: \"sequential_1\"\n",
      "_________________________________________________________________\n",
      "Layer (type)                 Output Shape              Param #   \n",
      "=================================================================\n",
      "lstm_1 (LSTM)                (None, 150)               91200     \n",
      "_________________________________________________________________\n",
      "dense_1 (Dense)              (None, 75)                11325     \n",
      "_________________________________________________________________\n",
      "dense_2 (Dense)              (None, 1)                 76        \n",
      "=================================================================\n",
      "Total params: 102,601\n",
      "Trainable params: 102,601\n",
      "Non-trainable params: 0\n",
      "_________________________________________________________________\n"
     ]
    }
   ],
   "source": [
    "model.summary()"
   ]
  },
  {
   "cell_type": "code",
   "execution_count": 40,
   "metadata": {},
   "outputs": [
    {
     "data": {
      "text/plain": [
       "array([[1.71232877e-03],\n",
       "       [1.03253425e+00],\n",
       "       [1.16780822e+00],\n",
       "       [1.32191781e+00],\n",
       "       [1.51712329e+00],\n",
       "       [1.78424658e+00]])"
      ]
     },
     "execution_count": 40,
     "metadata": {},
     "output_type": "execute_result"
    }
   ],
   "source": [
    "\n",
    "validation_set = np.append(scaled_train[55],scaled_test)\n",
    "validation_set=validation_set.reshape(6,1)\n",
    "validation_set"
   ]
  },
  {
   "cell_type": "code",
   "execution_count": 41,
   "metadata": {},
   "outputs": [],
   "source": [
    "## how to decide num of inputs , \n",
    "n_input = 5\n",
    "n_features = 1\n",
    "validation_gen = TimeseriesGenerator(validation_set,validation_set,length=5,batch_size=1)\n"
   ]
  },
  {
   "cell_type": "code",
   "execution_count": 42,
   "metadata": {},
   "outputs": [
    {
     "data": {
      "text/plain": [
       "((1, 5, 1), (1, 1))"
      ]
     },
     "execution_count": 42,
     "metadata": {},
     "output_type": "execute_result"
    }
   ],
   "source": [
    "validation_gen[0][0].shape,validation_gen[0][1].shape"
   ]
  },
  {
   "cell_type": "code",
   "execution_count": 43,
   "metadata": {},
   "outputs": [],
   "source": [
    "from tensorflow.keras.callbacks import EarlyStopping\n",
    "early_stop = EarlyStopping(monitor='val_loss',patience=20,restore_best_weights=True)\n"
   ]
  },
  {
   "cell_type": "code",
   "execution_count": 44,
   "metadata": {},
   "outputs": [
    {
     "name": "stdout",
     "output_type": "stream",
     "text": [
      "WARNING:tensorflow:From E:\\Users\\UserTC\\anaconda3\\lib\\site-packages\\keras\\backend\\tensorflow_backend.py:422: The name tf.global_variables is deprecated. Please use tf.compat.v1.global_variables instead.\n",
      "\n",
      "Epoch 1/100\n",
      "10/10 [==============================] - 1s 71ms/step - loss: 4.9405e-04 - val_loss: 2.6738\n",
      "Epoch 2/100\n",
      "10/10 [==============================] - 0s 3ms/step - loss: 0.0481 - val_loss: 2.2747\n",
      "Epoch 3/100\n",
      "10/10 [==============================] - 0s 9ms/step - loss: 0.0999 - val_loss: 1.8632\n",
      "Epoch 4/100\n",
      "10/10 [==============================] - 0s 10ms/step - loss: 0.0212 - val_loss: 1.2748\n",
      "Epoch 5/100\n",
      "10/10 [==============================] - 0s 10ms/step - loss: 0.0027 - val_loss: 0.7877\n",
      "Epoch 6/100\n",
      "10/10 [==============================] - 0s 10ms/step - loss: 0.0011 - val_loss: 0.6326\n",
      "Epoch 7/100\n",
      "10/10 [==============================] - 0s 10ms/step - loss: 0.0010 - val_loss: 0.5290\n",
      "Epoch 8/100\n",
      "10/10 [==============================] - 0s 10ms/step - loss: 5.5715e-04 - val_loss: 0.4585\n",
      "Epoch 9/100\n",
      "10/10 [==============================] - 0s 10ms/step - loss: 0.0011 - val_loss: 0.4424\n",
      "Epoch 10/100\n",
      "10/10 [==============================] - 0s 10ms/step - loss: 7.1881e-04 - val_loss: 0.4592\n",
      "Epoch 11/100\n",
      "10/10 [==============================] - 0s 10ms/step - loss: 0.0015 - val_loss: 0.6197\n",
      "Epoch 12/100\n",
      "10/10 [==============================] - 0s 13ms/step - loss: 7.8623e-04 - val_loss: 0.7128\n",
      "Epoch 13/100\n",
      "10/10 [==============================] - 0s 7ms/step - loss: 0.0027 - val_loss: 0.6090\n",
      "Epoch 14/100\n",
      "10/10 [==============================] - 0s 10ms/step - loss: 0.0035 - val_loss: 0.3241\n",
      "Epoch 15/100\n",
      "10/10 [==============================] - 0s 10ms/step - loss: 4.1508e-04 - val_loss: 0.2098\n",
      "Epoch 16/100\n",
      "10/10 [==============================] - 0s 10ms/step - loss: 0.0018 - val_loss: 0.3871\n",
      "Epoch 17/100\n",
      "10/10 [==============================] - 0s 10ms/step - loss: 6.1840e-04 - val_loss: 0.6323\n",
      "Epoch 18/100\n",
      "10/10 [==============================] - 0s 10ms/step - loss: 4.9086e-04 - val_loss: 0.8217\n",
      "Epoch 19/100\n",
      "10/10 [==============================] - 0s 10ms/step - loss: 3.4660e-04 - val_loss: 0.8582\n",
      "Epoch 20/100\n",
      "10/10 [==============================] - 0s 10ms/step - loss: 2.1525e-04 - val_loss: 0.9120\n",
      "Epoch 21/100\n",
      "10/10 [==============================] - 0s 10ms/step - loss: 0.0035 - val_loss: 0.6993\n",
      "Epoch 22/100\n",
      "10/10 [==============================] - 0s 10ms/step - loss: 0.0012 - val_loss: 0.4039\n",
      "Epoch 23/100\n",
      "10/10 [==============================] - 0s 10ms/step - loss: 3.4356e-04 - val_loss: 0.2704\n",
      "Epoch 24/100\n",
      "10/10 [==============================] - 0s 13ms/step - loss: 6.5338e-04 - val_loss: 0.2954\n",
      "Epoch 25/100\n",
      "10/10 [==============================] - 0s 7ms/step - loss: 4.0660e-05 - val_loss: 0.3198\n",
      "Epoch 26/100\n",
      "10/10 [==============================] - 0s 10ms/step - loss: 3.7366e-04 - val_loss: 0.2792\n",
      "Epoch 27/100\n",
      "10/10 [==============================] - 0s 10ms/step - loss: 7.0664e-04 - val_loss: 0.3402\n",
      "Epoch 28/100\n",
      "10/10 [==============================] - 0s 10ms/step - loss: 4.0963e-04 - val_loss: 0.4448\n",
      "Epoch 29/100\n",
      "10/10 [==============================] - 0s 10ms/step - loss: 0.0032 - val_loss: 0.3852\n",
      "Epoch 30/100\n",
      "10/10 [==============================] - 0s 10ms/step - loss: 0.0011 - val_loss: 0.3809\n",
      "Epoch 31/100\n",
      "10/10 [==============================] - 0s 10ms/step - loss: 2.1797e-04 - val_loss: 0.3357\n",
      "Epoch 32/100\n",
      "10/10 [==============================] - 0s 10ms/step - loss: 3.7527e-04 - val_loss: 0.3051\n",
      "Epoch 33/100\n",
      "10/10 [==============================] - 0s 10ms/step - loss: 0.0029 - val_loss: 0.3037\n",
      "Epoch 34/100\n",
      "10/10 [==============================] - 0s 10ms/step - loss: 1.3180e-04 - val_loss: 0.5720\n",
      "Epoch 35/100\n",
      "10/10 [==============================] - 0s 10ms/step - loss: 0.0015 - val_loss: 0.5138\n"
     ]
    },
    {
     "data": {
      "text/plain": [
       "<keras.callbacks.callbacks.History at 0x1d19d893808>"
      ]
     },
     "execution_count": 44,
     "metadata": {},
     "output_type": "execute_result"
    }
   ],
   "source": [
    "model.fit_generator(generator,validation_data=validation_gen,epochs=100,callbacks=[early_stop],steps_per_epoch=10)"
   ]
  },
  {
   "cell_type": "code",
   "execution_count": 45,
   "metadata": {},
   "outputs": [
    {
     "data": {
      "text/plain": [
       "<matplotlib.axes._subplots.AxesSubplot at 0x1d1a033a3c8>"
      ]
     },
     "execution_count": 45,
     "metadata": {},
     "output_type": "execute_result"
    },
    {
     "data": {
      "image/png": "[encoded data removed]",
      "text/plain": [
       "<Figure size 432x288 with 1 Axes>"
      ]
     },
     "metadata": {
      "needs_background": "light"
     },
     "output_type": "display_data"
    }
   ],
   "source": [
    "pd.DataFrame(model.history.history).plot(title=\"loss vs epochs curve\")"
   ]
  },
  {
   "cell_type": "code",
   "execution_count": 47,
   "metadata": {},
   "outputs": [
    {
     "data": {
      "text/plain": [
       "dict_keys(['val_loss', 'loss'])"
      ]
     },
     "execution_count": 47,
     "metadata": {},
     "output_type": "execute_result"
    }
   ],
   "source": [
    "model.history.history.keys()"
   ]
  },
  {
   "cell_type": "code",
   "execution_count": 48,
   "metadata": {},
   "outputs": [
    {
     "data": {
      "text/plain": [
       "[<matplotlib.lines.Line2D at 0x1d1a03c2c88>]"
      ]
     },
     "execution_count": 48,
     "metadata": {},
     "output_type": "execute_result"
    },
    {
     "data": {
      "image/png": "[encoded data removed]",
      "text/plain": [
       "<Figure size 432x288 with 1 Axes>"
      ]
     },
     "metadata": {
      "needs_background": "light"
     },
     "output_type": "display_data"
    }
   ],
   "source": [
    "\n",
    "myloss = model.history.history[\"val_loss\"]\n",
    "plt.title(\"validation loss vs epochs\")\n",
    "plt.plot(range(len(myloss)),myloss)"
   ]
  },
  {
   "cell_type": "markdown",
   "metadata": {},
   "source": [
    "# forecast"
   ]
  },
  {
   "cell_type": "code",
   "execution_count": 49,
   "metadata": {},
   "outputs": [],
   "source": [
    "## holding predictions\n",
    "test_prediction = []\n",
    "\n",
    "##last n points from training set\n",
    "first_eval_batch = scaled_train[-n_input:]\n",
    "current_batch = first_eval_batch.reshape(1,n_input,n_features)"
   ]
  },
  {
   "cell_type": "code",
   "execution_count": 50,
   "metadata": {},
   "outputs": [
    {
     "data": {
      "text/plain": [
       "(1, 5, 1)"
      ]
     },
     "execution_count": 50,
     "metadata": {},
     "output_type": "execute_result"
    }
   ],
   "source": [
    "current_batch.shape"
   ]
  },
  {
   "cell_type": "code",
   "execution_count": 51,
   "metadata": {},
   "outputs": [],
   "source": [
    "## how far in future we can predict\n",
    "for i in range(len(test)+7):\n",
    "    current_pred = model.predict(current_batch)[0]\n",
    "    test_prediction.append(current_pred)\n",
    "    current_batch = np.append(current_batch[:,1:,:],[[current_pred]],axis=1)"
   ]
  },
  {
   "cell_type": "code",
   "execution_count": 52,
   "metadata": {},
   "outputs": [
    {
     "data": {
      "text/plain": [
       "[array([1.184071], dtype=float32),\n",
       " array([1.3017546], dtype=float32),\n",
       " array([1.4479139], dtype=float32),\n",
       " array([1.6305516], dtype=float32),\n",
       " array([1.8460796], dtype=float32),\n",
       " array([2.1028612], dtype=float32),\n",
       " array([2.390521], dtype=float32),\n",
       " array([2.757574], dtype=float32),\n",
       " array([3.234067], dtype=float32),\n",
       " array([3.8672261], dtype=float32),\n",
       " array([4.7449965], dtype=float32),\n",
       " array([6.030232], dtype=float32)]"
      ]
     },
     "execution_count": 52,
     "metadata": {},
     "output_type": "execute_result"
    }
   ],
   "source": [
    "test_prediction"
   ]
  },
  {
   "cell_type": "code",
   "execution_count": 53,
   "metadata": {},
   "outputs": [
    {
     "data": {
      "text/plain": [
       "array([ 691.49743176,  760.22468281,  845.58170891,  952.24212074,\n",
       "       1078.11047935, 1228.07092094, 1396.06429291, 1610.42326355,\n",
       "       1888.69510651, 2258.4600563 , 2771.07798386, 3521.65546036])"
      ]
     },
     "execution_count": 53,
     "metadata": {},
     "output_type": "execute_result"
    }
   ],
   "source": [
    "### inverse scaled data\n",
    "true_prediction = scaler.inverse_transform(test_prediction)\n",
    "true_prediction[:,0]"
   ]
  },
  {
   "cell_type": "code",
   "execution_count": 54,
   "metadata": {},
   "outputs": [
    {
     "data": {
      "text/plain": [
       "DatetimeIndex(['2020-05-24', '2020-05-25', '2020-05-26', '2020-05-27',\n",
       "               '2020-05-28', '2020-05-29', '2020-05-30', '2020-05-31',\n",
       "               '2020-06-01', '2020-06-02', '2020-06-03', '2020-06-04'],\n",
       "              dtype='datetime64[ns]', freq=None)"
      ]
     },
     "execution_count": 54,
     "metadata": {},
     "output_type": "execute_result"
    }
   ],
   "source": [
    "time_series_array = test.index\n",
    "for k in range(0,7):\n",
    "    time_series_array = time_series_array.append(time_series_array[-1:] + pd.DateOffset(1))\n",
    "time_series_array"
   ]
  },
  {
   "cell_type": "code",
   "execution_count": 55,
   "metadata": {},
   "outputs": [
    {
     "data": {
      "text/html": [
       "<div>\n",
       "<style scoped>\n",
       "    .dataframe tbody tr th:only-of-type {\n",
       "        vertical-align: middle;\n",
       "    }\n",
       "\n",
       "    .dataframe tbody tr th {\n",
       "        vertical-align: top;\n",
       "    }\n",
       "\n",
       "    .dataframe thead th {\n",
       "        text-align: right;\n",
       "    }\n",
       "</style>\n",
       "<table border=\"1\" class=\"dataframe\">\n",
       "  <thead>\n",
       "    <tr style=\"text-align: right;\">\n",
       "      <th></th>\n",
       "      <th>confirmed</th>\n",
       "      <th>confirmed_predicted</th>\n",
       "    </tr>\n",
       "  </thead>\n",
       "  <tbody>\n",
       "    <tr>\n",
       "      <th>2020-05-24</th>\n",
       "      <td>NaN</td>\n",
       "      <td>NaN</td>\n",
       "    </tr>\n",
       "    <tr>\n",
       "      <th>2020-05-25</th>\n",
       "      <td>NaN</td>\n",
       "      <td>NaN</td>\n",
       "    </tr>\n",
       "    <tr>\n",
       "      <th>2020-05-26</th>\n",
       "      <td>NaN</td>\n",
       "      <td>NaN</td>\n",
       "    </tr>\n",
       "    <tr>\n",
       "      <th>2020-05-27</th>\n",
       "      <td>NaN</td>\n",
       "      <td>NaN</td>\n",
       "    </tr>\n",
       "    <tr>\n",
       "      <th>2020-05-28</th>\n",
       "      <td>NaN</td>\n",
       "      <td>NaN</td>\n",
       "    </tr>\n",
       "    <tr>\n",
       "      <th>2020-05-29</th>\n",
       "      <td>NaN</td>\n",
       "      <td>NaN</td>\n",
       "    </tr>\n",
       "    <tr>\n",
       "      <th>2020-05-30</th>\n",
       "      <td>NaN</td>\n",
       "      <td>NaN</td>\n",
       "    </tr>\n",
       "    <tr>\n",
       "      <th>2020-05-31</th>\n",
       "      <td>NaN</td>\n",
       "      <td>NaN</td>\n",
       "    </tr>\n",
       "    <tr>\n",
       "      <th>2020-06-01</th>\n",
       "      <td>NaN</td>\n",
       "      <td>NaN</td>\n",
       "    </tr>\n",
       "    <tr>\n",
       "      <th>2020-06-02</th>\n",
       "      <td>NaN</td>\n",
       "      <td>NaN</td>\n",
       "    </tr>\n",
       "    <tr>\n",
       "      <th>2020-06-03</th>\n",
       "      <td>NaN</td>\n",
       "      <td>NaN</td>\n",
       "    </tr>\n",
       "    <tr>\n",
       "      <th>2020-06-04</th>\n",
       "      <td>NaN</td>\n",
       "      <td>NaN</td>\n",
       "    </tr>\n",
       "  </tbody>\n",
       "</table>\n",
       "</div>"
      ],
      "text/plain": [
       "           confirmed confirmed_predicted\n",
       "2020-05-24       NaN                 NaN\n",
       "2020-05-25       NaN                 NaN\n",
       "2020-05-26       NaN                 NaN\n",
       "2020-05-27       NaN                 NaN\n",
       "2020-05-28       NaN                 NaN\n",
       "2020-05-29       NaN                 NaN\n",
       "2020-05-30       NaN                 NaN\n",
       "2020-05-31       NaN                 NaN\n",
       "2020-06-01       NaN                 NaN\n",
       "2020-06-02       NaN                 NaN\n",
       "2020-06-03       NaN                 NaN\n",
       "2020-06-04       NaN                 NaN"
      ]
     },
     "execution_count": 55,
     "metadata": {},
     "output_type": "execute_result"
    }
   ],
   "source": [
    "df_forecast = pd.DataFrame(columns=[\"confirmed\",\"confirmed_predicted\"],index=time_series_array)\n",
    "df_forecast"
   ]
  },
  {
   "cell_type": "code",
   "execution_count": 57,
   "metadata": {},
   "outputs": [],
   "source": [
    "df_forecast.loc[:,\"confirmed_predicted\"] = true_prediction[:,0]\n",
    "df_forecast.loc[:,\"confirmed\"] = test[\"confirmed\"]"
   ]
  },
  {
   "cell_type": "code",
   "execution_count": 58,
   "metadata": {},
   "outputs": [
    {
     "data": {
      "text/html": [
       "<div>\n",
       "<style scoped>\n",
       "    .dataframe tbody tr th:only-of-type {\n",
       "        vertical-align: middle;\n",
       "    }\n",
       "\n",
       "    .dataframe tbody tr th {\n",
       "        vertical-align: top;\n",
       "    }\n",
       "\n",
       "    .dataframe thead th {\n",
       "        text-align: right;\n",
       "    }\n",
       "</style>\n",
       "<table border=\"1\" class=\"dataframe\">\n",
       "  <thead>\n",
       "    <tr style=\"text-align: right;\">\n",
       "      <th></th>\n",
       "      <th>confirmed</th>\n",
       "      <th>confirmed_predicted</th>\n",
       "    </tr>\n",
       "  </thead>\n",
       "  <tbody>\n",
       "    <tr>\n",
       "      <th>2020-05-24</th>\n",
       "      <td>603.0</td>\n",
       "      <td>691.497432</td>\n",
       "    </tr>\n",
       "    <tr>\n",
       "      <th>2020-05-25</th>\n",
       "      <td>682.0</td>\n",
       "      <td>760.224683</td>\n",
       "    </tr>\n",
       "    <tr>\n",
       "      <th>2020-05-26</th>\n",
       "      <td>772.0</td>\n",
       "      <td>845.581709</td>\n",
       "    </tr>\n",
       "    <tr>\n",
       "      <th>2020-05-27</th>\n",
       "      <td>886.0</td>\n",
       "      <td>952.242121</td>\n",
       "    </tr>\n",
       "    <tr>\n",
       "      <th>2020-05-28</th>\n",
       "      <td>1042.0</td>\n",
       "      <td>1078.110479</td>\n",
       "    </tr>\n",
       "    <tr>\n",
       "      <th>2020-05-29</th>\n",
       "      <td>NaN</td>\n",
       "      <td>1228.070921</td>\n",
       "    </tr>\n",
       "    <tr>\n",
       "      <th>2020-05-30</th>\n",
       "      <td>NaN</td>\n",
       "      <td>1396.064293</td>\n",
       "    </tr>\n",
       "    <tr>\n",
       "      <th>2020-05-31</th>\n",
       "      <td>NaN</td>\n",
       "      <td>1610.423264</td>\n",
       "    </tr>\n",
       "    <tr>\n",
       "      <th>2020-06-01</th>\n",
       "      <td>NaN</td>\n",
       "      <td>1888.695107</td>\n",
       "    </tr>\n",
       "    <tr>\n",
       "      <th>2020-06-02</th>\n",
       "      <td>NaN</td>\n",
       "      <td>2258.460056</td>\n",
       "    </tr>\n",
       "    <tr>\n",
       "      <th>2020-06-03</th>\n",
       "      <td>NaN</td>\n",
       "      <td>2771.077984</td>\n",
       "    </tr>\n",
       "    <tr>\n",
       "      <th>2020-06-04</th>\n",
       "      <td>NaN</td>\n",
       "      <td>3521.655460</td>\n",
       "    </tr>\n",
       "  </tbody>\n",
       "</table>\n",
       "</div>"
      ],
      "text/plain": [
       "            confirmed  confirmed_predicted\n",
       "2020-05-24      603.0           691.497432\n",
       "2020-05-25      682.0           760.224683\n",
       "2020-05-26      772.0           845.581709\n",
       "2020-05-27      886.0           952.242121\n",
       "2020-05-28     1042.0          1078.110479\n",
       "2020-05-29        NaN          1228.070921\n",
       "2020-05-30        NaN          1396.064293\n",
       "2020-05-31        NaN          1610.423264\n",
       "2020-06-01        NaN          1888.695107\n",
       "2020-06-02        NaN          2258.460056\n",
       "2020-06-03        NaN          2771.077984\n",
       "2020-06-04        NaN          3521.655460"
      ]
     },
     "execution_count": 58,
     "metadata": {},
     "output_type": "execute_result"
    }
   ],
   "source": [
    "df_forecast"
   ]
  },
  {
   "cell_type": "code",
   "execution_count": 59,
   "metadata": {},
   "outputs": [
    {
     "data": {
      "text/plain": [
       "<matplotlib.axes._subplots.AxesSubplot at 0x1d1a0597a08>"
      ]
     },
     "execution_count": 59,
     "metadata": {},
     "output_type": "execute_result"
    },
    {
     "data": {
      "image/png": "[encoded data removed]",
      "text/plain": [
       "<Figure size 432x288 with 1 Axes>"
      ]
     },
     "metadata": {
      "needs_background": "light"
     },
     "output_type": "display_data"
    }
   ],
   "source": [
    "\n",
    "#plt.ylim([80000,85000])\n",
    "df_forecast.plot(title=\"Nepal's Predictions for next 7 days\")"
   ]
  },
  {
   "cell_type": "code",
   "execution_count": 60,
   "metadata": {},
   "outputs": [
    {
     "name": "stdout",
     "output_type": "stream",
     "text": [
      "MAPE is 9.323885935394909 %\n"
     ]
    }
   ],
   "source": [
    "MAPE = np.mean(np.abs(np.array(df_forecast[\"confirmed\"][:5]) - np.array(df_forecast[\"confirmed_predicted\"][:5]))/np.array(df_forecast[\"confirmed\"][:5]))\n",
    "print(\"MAPE is \" + str(MAPE*100) + \" %\")"
   ]
  },
  {
   "cell_type": "code",
   "execution_count": 61,
   "metadata": {},
   "outputs": [
    {
     "data": {
      "text/plain": [
       "25057.149593217255"
      ]
     },
     "execution_count": 61,
     "metadata": {},
     "output_type": "execute_result"
    }
   ],
   "source": [
    "sum_errs = np.sum((np.array(df_forecast[\"confirmed\"][:5]) - np.array(df_forecast[\"confirmed_predicted\"][:5]))**2)\n",
    "sum_errs"
   ]
  },
  {
   "cell_type": "code",
   "execution_count": 62,
   "metadata": {},
   "outputs": [
    {
     "data": {
      "text/plain": [
       "91.39137375999489"
      ]
     },
     "execution_count": 62,
     "metadata": {},
     "output_type": "execute_result"
    }
   ],
   "source": [
    "stdev = np.sqrt(1/(5-2) * sum_errs)\n",
    "stdev"
   ]
  },
  {
   "cell_type": "code",
   "execution_count": 63,
   "metadata": {},
   "outputs": [
    {
     "data": {
      "text/plain": [
       "179.12709256959"
      ]
     },
     "execution_count": 63,
     "metadata": {},
     "output_type": "execute_result"
    }
   ],
   "source": [
    "\n",
    "# calculate prediction interval\n",
    "interval = 1.96 * stdev\n",
    "interval"
   ]
  },
  {
   "cell_type": "code",
   "execution_count": 64,
   "metadata": {},
   "outputs": [
    {
     "data": {
      "text/html": [
       "<div>\n",
       "<style scoped>\n",
       "    .dataframe tbody tr th:only-of-type {\n",
       "        vertical-align: middle;\n",
       "    }\n",
       "\n",
       "    .dataframe tbody tr th {\n",
       "        vertical-align: top;\n",
       "    }\n",
       "\n",
       "    .dataframe thead th {\n",
       "        text-align: right;\n",
       "    }\n",
       "</style>\n",
       "<table border=\"1\" class=\"dataframe\">\n",
       "  <thead>\n",
       "    <tr style=\"text-align: right;\">\n",
       "      <th></th>\n",
       "      <th>confirmed</th>\n",
       "      <th>confirmed_predicted</th>\n",
       "      <th>confirm_min</th>\n",
       "      <th>confirm_max</th>\n",
       "    </tr>\n",
       "  </thead>\n",
       "  <tbody>\n",
       "    <tr>\n",
       "      <th>2020-05-24</th>\n",
       "      <td>603.0</td>\n",
       "      <td>691.497432</td>\n",
       "      <td>512.370339</td>\n",
       "      <td>870.624524</td>\n",
       "    </tr>\n",
       "    <tr>\n",
       "      <th>2020-05-25</th>\n",
       "      <td>682.0</td>\n",
       "      <td>760.224683</td>\n",
       "      <td>581.097590</td>\n",
       "      <td>939.351775</td>\n",
       "    </tr>\n",
       "    <tr>\n",
       "      <th>2020-05-26</th>\n",
       "      <td>772.0</td>\n",
       "      <td>845.581709</td>\n",
       "      <td>666.454616</td>\n",
       "      <td>1024.708801</td>\n",
       "    </tr>\n",
       "    <tr>\n",
       "      <th>2020-05-27</th>\n",
       "      <td>886.0</td>\n",
       "      <td>952.242121</td>\n",
       "      <td>773.115028</td>\n",
       "      <td>1131.369213</td>\n",
       "    </tr>\n",
       "    <tr>\n",
       "      <th>2020-05-28</th>\n",
       "      <td>1042.0</td>\n",
       "      <td>1078.110479</td>\n",
       "      <td>898.983387</td>\n",
       "      <td>1257.237572</td>\n",
       "    </tr>\n",
       "    <tr>\n",
       "      <th>2020-05-29</th>\n",
       "      <td>NaN</td>\n",
       "      <td>1228.070921</td>\n",
       "      <td>1048.943828</td>\n",
       "      <td>1407.198014</td>\n",
       "    </tr>\n",
       "    <tr>\n",
       "      <th>2020-05-30</th>\n",
       "      <td>NaN</td>\n",
       "      <td>1396.064293</td>\n",
       "      <td>1216.937200</td>\n",
       "      <td>1575.191385</td>\n",
       "    </tr>\n",
       "    <tr>\n",
       "      <th>2020-05-31</th>\n",
       "      <td>NaN</td>\n",
       "      <td>1610.423264</td>\n",
       "      <td>1431.296171</td>\n",
       "      <td>1789.550356</td>\n",
       "    </tr>\n",
       "    <tr>\n",
       "      <th>2020-06-01</th>\n",
       "      <td>NaN</td>\n",
       "      <td>1888.695107</td>\n",
       "      <td>1709.568014</td>\n",
       "      <td>2067.822199</td>\n",
       "    </tr>\n",
       "    <tr>\n",
       "      <th>2020-06-02</th>\n",
       "      <td>NaN</td>\n",
       "      <td>2258.460056</td>\n",
       "      <td>2079.332964</td>\n",
       "      <td>2437.587149</td>\n",
       "    </tr>\n",
       "    <tr>\n",
       "      <th>2020-06-03</th>\n",
       "      <td>NaN</td>\n",
       "      <td>2771.077984</td>\n",
       "      <td>2591.950891</td>\n",
       "      <td>2950.205076</td>\n",
       "    </tr>\n",
       "    <tr>\n",
       "      <th>2020-06-04</th>\n",
       "      <td>NaN</td>\n",
       "      <td>3521.655460</td>\n",
       "      <td>3342.528368</td>\n",
       "      <td>3700.782553</td>\n",
       "    </tr>\n",
       "  </tbody>\n",
       "</table>\n",
       "</div>"
      ],
      "text/plain": [
       "            confirmed  confirmed_predicted  confirm_min  confirm_max\n",
       "2020-05-24      603.0           691.497432   512.370339   870.624524\n",
       "2020-05-25      682.0           760.224683   581.097590   939.351775\n",
       "2020-05-26      772.0           845.581709   666.454616  1024.708801\n",
       "2020-05-27      886.0           952.242121   773.115028  1131.369213\n",
       "2020-05-28     1042.0          1078.110479   898.983387  1257.237572\n",
       "2020-05-29        NaN          1228.070921  1048.943828  1407.198014\n",
       "2020-05-30        NaN          1396.064293  1216.937200  1575.191385\n",
       "2020-05-31        NaN          1610.423264  1431.296171  1789.550356\n",
       "2020-06-01        NaN          1888.695107  1709.568014  2067.822199\n",
       "2020-06-02        NaN          2258.460056  2079.332964  2437.587149\n",
       "2020-06-03        NaN          2771.077984  2591.950891  2950.205076\n",
       "2020-06-04        NaN          3521.655460  3342.528368  3700.782553"
      ]
     },
     "execution_count": 64,
     "metadata": {},
     "output_type": "execute_result"
    }
   ],
   "source": [
    "df_forecast[\"confirm_min\"] = df_forecast[\"confirmed_predicted\"] - interval\n",
    "df_forecast[\"confirm_max\"] = df_forecast[\"confirmed_predicted\"] + interval\n",
    "df_forecast"
   ]
  },
  {
   "cell_type": "code",
   "execution_count": 65,
   "metadata": {},
   "outputs": [
    {
     "data": {
      "text/html": [
       "<div>\n",
       "<style scoped>\n",
       "    .dataframe tbody tr th:only-of-type {\n",
       "        vertical-align: middle;\n",
       "    }\n",
       "\n",
       "    .dataframe tbody tr th {\n",
       "        vertical-align: top;\n",
       "    }\n",
       "\n",
       "    .dataframe thead th {\n",
       "        text-align: right;\n",
       "    }\n",
       "</style>\n",
       "<table border=\"1\" class=\"dataframe\">\n",
       "  <thead>\n",
       "    <tr style=\"text-align: right;\">\n",
       "      <th></th>\n",
       "      <th>confirmed</th>\n",
       "      <th>confirmed_predicted</th>\n",
       "      <th>confirm_min</th>\n",
       "      <th>confirm_max</th>\n",
       "      <th>Model Accuracy</th>\n",
       "    </tr>\n",
       "  </thead>\n",
       "  <tbody>\n",
       "    <tr>\n",
       "      <th>2020-05-24</th>\n",
       "      <td>603.0</td>\n",
       "      <td>691.497432</td>\n",
       "      <td>512.370339</td>\n",
       "      <td>870.624524</td>\n",
       "      <td>0.91</td>\n",
       "    </tr>\n",
       "    <tr>\n",
       "      <th>2020-05-25</th>\n",
       "      <td>682.0</td>\n",
       "      <td>760.224683</td>\n",
       "      <td>581.097590</td>\n",
       "      <td>939.351775</td>\n",
       "      <td>0.91</td>\n",
       "    </tr>\n",
       "    <tr>\n",
       "      <th>2020-05-26</th>\n",
       "      <td>772.0</td>\n",
       "      <td>845.581709</td>\n",
       "      <td>666.454616</td>\n",
       "      <td>1024.708801</td>\n",
       "      <td>0.91</td>\n",
       "    </tr>\n",
       "    <tr>\n",
       "      <th>2020-05-27</th>\n",
       "      <td>886.0</td>\n",
       "      <td>952.242121</td>\n",
       "      <td>773.115028</td>\n",
       "      <td>1131.369213</td>\n",
       "      <td>0.91</td>\n",
       "    </tr>\n",
       "    <tr>\n",
       "      <th>2020-05-28</th>\n",
       "      <td>1042.0</td>\n",
       "      <td>1078.110479</td>\n",
       "      <td>898.983387</td>\n",
       "      <td>1257.237572</td>\n",
       "      <td>0.91</td>\n",
       "    </tr>\n",
       "    <tr>\n",
       "      <th>2020-05-29</th>\n",
       "      <td>NaN</td>\n",
       "      <td>1228.070921</td>\n",
       "      <td>1048.943828</td>\n",
       "      <td>1407.198014</td>\n",
       "      <td>0.91</td>\n",
       "    </tr>\n",
       "    <tr>\n",
       "      <th>2020-05-30</th>\n",
       "      <td>NaN</td>\n",
       "      <td>1396.064293</td>\n",
       "      <td>1216.937200</td>\n",
       "      <td>1575.191385</td>\n",
       "      <td>0.91</td>\n",
       "    </tr>\n",
       "    <tr>\n",
       "      <th>2020-05-31</th>\n",
       "      <td>NaN</td>\n",
       "      <td>1610.423264</td>\n",
       "      <td>1431.296171</td>\n",
       "      <td>1789.550356</td>\n",
       "      <td>0.91</td>\n",
       "    </tr>\n",
       "    <tr>\n",
       "      <th>2020-06-01</th>\n",
       "      <td>NaN</td>\n",
       "      <td>1888.695107</td>\n",
       "      <td>1709.568014</td>\n",
       "      <td>2067.822199</td>\n",
       "      <td>0.91</td>\n",
       "    </tr>\n",
       "    <tr>\n",
       "      <th>2020-06-02</th>\n",
       "      <td>NaN</td>\n",
       "      <td>2258.460056</td>\n",
       "      <td>2079.332964</td>\n",
       "      <td>2437.587149</td>\n",
       "      <td>0.91</td>\n",
       "    </tr>\n",
       "    <tr>\n",
       "      <th>2020-06-03</th>\n",
       "      <td>NaN</td>\n",
       "      <td>2771.077984</td>\n",
       "      <td>2591.950891</td>\n",
       "      <td>2950.205076</td>\n",
       "      <td>0.91</td>\n",
       "    </tr>\n",
       "    <tr>\n",
       "      <th>2020-06-04</th>\n",
       "      <td>NaN</td>\n",
       "      <td>3521.655460</td>\n",
       "      <td>3342.528368</td>\n",
       "      <td>3700.782553</td>\n",
       "      <td>0.91</td>\n",
       "    </tr>\n",
       "  </tbody>\n",
       "</table>\n",
       "</div>"
      ],
      "text/plain": [
       "            confirmed  confirmed_predicted  confirm_min  confirm_max  \\\n",
       "2020-05-24      603.0           691.497432   512.370339   870.624524   \n",
       "2020-05-25      682.0           760.224683   581.097590   939.351775   \n",
       "2020-05-26      772.0           845.581709   666.454616  1024.708801   \n",
       "2020-05-27      886.0           952.242121   773.115028  1131.369213   \n",
       "2020-05-28     1042.0          1078.110479   898.983387  1257.237572   \n",
       "2020-05-29        NaN          1228.070921  1048.943828  1407.198014   \n",
       "2020-05-30        NaN          1396.064293  1216.937200  1575.191385   \n",
       "2020-05-31        NaN          1610.423264  1431.296171  1789.550356   \n",
       "2020-06-01        NaN          1888.695107  1709.568014  2067.822199   \n",
       "2020-06-02        NaN          2258.460056  2079.332964  2437.587149   \n",
       "2020-06-03        NaN          2771.077984  2591.950891  2950.205076   \n",
       "2020-06-04        NaN          3521.655460  3342.528368  3700.782553   \n",
       "\n",
       "            Model Accuracy  \n",
       "2020-05-24            0.91  \n",
       "2020-05-25            0.91  \n",
       "2020-05-26            0.91  \n",
       "2020-05-27            0.91  \n",
       "2020-05-28            0.91  \n",
       "2020-05-29            0.91  \n",
       "2020-05-30            0.91  \n",
       "2020-05-31            0.91  \n",
       "2020-06-01            0.91  \n",
       "2020-06-02            0.91  \n",
       "2020-06-03            0.91  \n",
       "2020-06-04            0.91  "
      ]
     },
     "execution_count": 65,
     "metadata": {},
     "output_type": "execute_result"
    }
   ],
   "source": [
    "df_forecast[\"Model Accuracy\"] = round((1-MAPE),2)\n",
    "df_forecast"
   ]
  },
  {
   "cell_type": "code",
   "execution_count": 66,
   "metadata": {},
   "outputs": [
    {
     "data": {
      "text/html": [
       "<div>\n",
       "<style scoped>\n",
       "    .dataframe tbody tr th:only-of-type {\n",
       "        vertical-align: middle;\n",
       "    }\n",
       "\n",
       "    .dataframe tbody tr th {\n",
       "        vertical-align: top;\n",
       "    }\n",
       "\n",
       "    .dataframe thead th {\n",
       "        text-align: right;\n",
       "    }\n",
       "</style>\n",
       "<table border=\"1\" class=\"dataframe\">\n",
       "  <thead>\n",
       "    <tr style=\"text-align: right;\">\n",
       "      <th></th>\n",
       "      <th>confirmed</th>\n",
       "      <th>confirmed_predicted</th>\n",
       "      <th>confirm_min</th>\n",
       "      <th>confirm_max</th>\n",
       "      <th>Model Accuracy</th>\n",
       "      <th>Country</th>\n",
       "      <th>Execution date</th>\n",
       "    </tr>\n",
       "  </thead>\n",
       "  <tbody>\n",
       "    <tr>\n",
       "      <th>2020-05-24</th>\n",
       "      <td>603.0</td>\n",
       "      <td>691.497432</td>\n",
       "      <td>512.370339</td>\n",
       "      <td>870.624524</td>\n",
       "      <td>0.91</td>\n",
       "      <td>Nepal</td>\n",
       "      <td>2020-05-29</td>\n",
       "    </tr>\n",
       "    <tr>\n",
       "      <th>2020-05-25</th>\n",
       "      <td>682.0</td>\n",
       "      <td>760.224683</td>\n",
       "      <td>581.097590</td>\n",
       "      <td>939.351775</td>\n",
       "      <td>0.91</td>\n",
       "      <td>Nepal</td>\n",
       "      <td>2020-05-29</td>\n",
       "    </tr>\n",
       "    <tr>\n",
       "      <th>2020-05-26</th>\n",
       "      <td>772.0</td>\n",
       "      <td>845.581709</td>\n",
       "      <td>666.454616</td>\n",
       "      <td>1024.708801</td>\n",
       "      <td>0.91</td>\n",
       "      <td>Nepal</td>\n",
       "      <td>2020-05-29</td>\n",
       "    </tr>\n",
       "    <tr>\n",
       "      <th>2020-05-27</th>\n",
       "      <td>886.0</td>\n",
       "      <td>952.242121</td>\n",
       "      <td>773.115028</td>\n",
       "      <td>1131.369213</td>\n",
       "      <td>0.91</td>\n",
       "      <td>Nepal</td>\n",
       "      <td>2020-05-29</td>\n",
       "    </tr>\n",
       "    <tr>\n",
       "      <th>2020-05-28</th>\n",
       "      <td>1042.0</td>\n",
       "      <td>1078.110479</td>\n",
       "      <td>898.983387</td>\n",
       "      <td>1257.237572</td>\n",
       "      <td>0.91</td>\n",
       "      <td>Nepal</td>\n",
       "      <td>2020-05-29</td>\n",
       "    </tr>\n",
       "    <tr>\n",
       "      <th>2020-05-29</th>\n",
       "      <td>NaN</td>\n",
       "      <td>1228.070921</td>\n",
       "      <td>1048.943828</td>\n",
       "      <td>1407.198014</td>\n",
       "      <td>0.91</td>\n",
       "      <td>Nepal</td>\n",
       "      <td>2020-05-29</td>\n",
       "    </tr>\n",
       "    <tr>\n",
       "      <th>2020-05-30</th>\n",
       "      <td>NaN</td>\n",
       "      <td>1396.064293</td>\n",
       "      <td>1216.937200</td>\n",
       "      <td>1575.191385</td>\n",
       "      <td>0.91</td>\n",
       "      <td>Nepal</td>\n",
       "      <td>2020-05-29</td>\n",
       "    </tr>\n",
       "    <tr>\n",
       "      <th>2020-05-31</th>\n",
       "      <td>NaN</td>\n",
       "      <td>1610.423264</td>\n",
       "      <td>1431.296171</td>\n",
       "      <td>1789.550356</td>\n",
       "      <td>0.91</td>\n",
       "      <td>Nepal</td>\n",
       "      <td>2020-05-29</td>\n",
       "    </tr>\n",
       "    <tr>\n",
       "      <th>2020-06-01</th>\n",
       "      <td>NaN</td>\n",
       "      <td>1888.695107</td>\n",
       "      <td>1709.568014</td>\n",
       "      <td>2067.822199</td>\n",
       "      <td>0.91</td>\n",
       "      <td>Nepal</td>\n",
       "      <td>2020-05-29</td>\n",
       "    </tr>\n",
       "    <tr>\n",
       "      <th>2020-06-02</th>\n",
       "      <td>NaN</td>\n",
       "      <td>2258.460056</td>\n",
       "      <td>2079.332964</td>\n",
       "      <td>2437.587149</td>\n",
       "      <td>0.91</td>\n",
       "      <td>Nepal</td>\n",
       "      <td>2020-05-29</td>\n",
       "    </tr>\n",
       "    <tr>\n",
       "      <th>2020-06-03</th>\n",
       "      <td>NaN</td>\n",
       "      <td>2771.077984</td>\n",
       "      <td>2591.950891</td>\n",
       "      <td>2950.205076</td>\n",
       "      <td>0.91</td>\n",
       "      <td>Nepal</td>\n",
       "      <td>2020-05-29</td>\n",
       "    </tr>\n",
       "    <tr>\n",
       "      <th>2020-06-04</th>\n",
       "      <td>NaN</td>\n",
       "      <td>3521.655460</td>\n",
       "      <td>3342.528368</td>\n",
       "      <td>3700.782553</td>\n",
       "      <td>0.91</td>\n",
       "      <td>Nepal</td>\n",
       "      <td>2020-05-29</td>\n",
       "    </tr>\n",
       "  </tbody>\n",
       "</table>\n",
       "</div>"
      ],
      "text/plain": [
       "            confirmed  confirmed_predicted  confirm_min  confirm_max  \\\n",
       "2020-05-24      603.0           691.497432   512.370339   870.624524   \n",
       "2020-05-25      682.0           760.224683   581.097590   939.351775   \n",
       "2020-05-26      772.0           845.581709   666.454616  1024.708801   \n",
       "2020-05-27      886.0           952.242121   773.115028  1131.369213   \n",
       "2020-05-28     1042.0          1078.110479   898.983387  1257.237572   \n",
       "2020-05-29        NaN          1228.070921  1048.943828  1407.198014   \n",
       "2020-05-30        NaN          1396.064293  1216.937200  1575.191385   \n",
       "2020-05-31        NaN          1610.423264  1431.296171  1789.550356   \n",
       "2020-06-01        NaN          1888.695107  1709.568014  2067.822199   \n",
       "2020-06-02        NaN          2258.460056  2079.332964  2437.587149   \n",
       "2020-06-03        NaN          2771.077984  2591.950891  2950.205076   \n",
       "2020-06-04        NaN          3521.655460  3342.528368  3700.782553   \n",
       "\n",
       "            Model Accuracy Country Execution date  \n",
       "2020-05-24            0.91   Nepal     2020-05-29  \n",
       "2020-05-25            0.91   Nepal     2020-05-29  \n",
       "2020-05-26            0.91   Nepal     2020-05-29  \n",
       "2020-05-27            0.91   Nepal     2020-05-29  \n",
       "2020-05-28            0.91   Nepal     2020-05-29  \n",
       "2020-05-29            0.91   Nepal     2020-05-29  \n",
       "2020-05-30            0.91   Nepal     2020-05-29  \n",
       "2020-05-31            0.91   Nepal     2020-05-29  \n",
       "2020-06-01            0.91   Nepal     2020-05-29  \n",
       "2020-06-02            0.91   Nepal     2020-05-29  \n",
       "2020-06-03            0.91   Nepal     2020-05-29  \n",
       "2020-06-04            0.91   Nepal     2020-05-29  "
      ]
     },
     "execution_count": 66,
     "metadata": {},
     "output_type": "execute_result"
    }
   ],
   "source": [
    "from datetime import datetime\n",
    "df_forecast[\"Country\"] = country\n",
    "df_forecast[\"Execution date\"] = str(datetime.now()).split()[0]\n",
    "df_forecast"
   ]
  },
  {
   "cell_type": "code",
   "execution_count": 67,
   "metadata": {},
   "outputs": [],
   "source": [
    "#df_forecast.to_excel(\"output/Iran_confirmed.xlsx\")"
   ]
  },
  {
   "cell_type": "code",
   "execution_count": 69,
   "metadata": {},
   "outputs": [],
   "source": [
    "### save model\n",
    "model.save(\"confirmed_{0}_{1}.h5\".format(country,str(datetime.now()).split()[0]))"
   ]
  },
  {
   "cell_type": "code",
   "execution_count": 70,
   "metadata": {},
   "outputs": [
    {
     "data": {
      "text/plain": [
       "<matplotlib.axes._subplots.AxesSubplot at 0x1d1a0699088>"
      ]
     },
     "execution_count": 70,
     "metadata": {},
     "output_type": "execute_result"
    },
    {
     "data": {
      "image/png": "[encoded data removed]",
      "text/plain": [
       "<Figure size 432x288 with 1 Axes>"
      ]
     },
     "metadata": {
      "needs_background": "light"
     },
     "output_type": "display_data"
    }
   ],
   "source": [
    "df_forecast.iloc[:,:4].plot()"
   ]
  },
  {
   "cell_type": "code",
   "execution_count": 71,
   "metadata": {},
   "outputs": [
    {
     "data": {
      "image/png": "[encoded data removed]",
      "text/plain": [
       "<Figure size 720x360 with 1 Axes>"
      ]
     },
     "metadata": {
      "needs_background": "light"
     },
     "output_type": "display_data"
    }
   ],
   "source": [
    "fig= plt.figure(figsize=(10,5))\n",
    "plt.title(\"{} - Results\".format(country))\n",
    "plt.plot(df_forecast.index,df_forecast[\"confirmed\"],label=\"confirmed\")\n",
    "plt.plot(df_forecast.index,df_forecast[\"confirmed_predicted\"],label=\"confirmed_predicted\")\n",
    "#ax.fill_between(x, (y-ci), (y+ci), color='b', alpha=.1)\n",
    "plt.fill_between(df_forecast.index,df_forecast[\"confirm_min\"],df_forecast[\"confirm_max\"],color=\"indigo\",alpha=0.09,label=\"Confidence Interval\")\n",
    "plt.legend()\n",
    "plt.show()"
   ]
  },
  {
   "cell_type": "markdown",
   "metadata": {},
   "source": [
    "# load a saved model"
   ]
  },
  {
   "cell_type": "code",
   "execution_count": 73,
   "metadata": {},
   "outputs": [],
   "source": [
    "from keras.models import load_model\n",
    "name = \"confirmed_{0}_{1}.h5\".format(country,str(datetime.now()).split()[0])\n",
    "model1 = load_model(name)"
   ]
  },
  {
   "cell_type": "code",
   "execution_count": 74,
   "metadata": {},
   "outputs": [
    {
     "name": "stdout",
     "output_type": "stream",
     "text": [
      "Model: \"sequential_1\"\n",
      "_________________________________________________________________\n",
      "Layer (type)                 Output Shape              Param #   \n",
      "=================================================================\n",
      "lstm_1 (LSTM)                (None, 150)               91200     \n",
      "_________________________________________________________________\n",
      "dense_1 (Dense)              (None, 75)                11325     \n",
      "_________________________________________________________________\n",
      "dense_2 (Dense)              (None, 1)                 76        \n",
      "=================================================================\n",
      "Total params: 102,601\n",
      "Trainable params: 102,601\n",
      "Non-trainable params: 0\n",
      "_________________________________________________________________\n"
     ]
    }
   ],
   "source": [
    "model1.summary()"
   ]
  },
  {
   "cell_type": "code",
   "execution_count": null,
   "metadata": {},
   "outputs": [],
   "source": []
  }
 ],
 "metadata": {
  "kernelspec": {
   "display_name": "Python 3",
   "language": "python",
   "name": "python3"
  },
  "language_info": {
   "codemirror_mode": {
    "name": "ipython",
    "version": 3
   },
   "file_extension": ".py",
   "mimetype": "text/x-python",
   "name": "python",
   "nbconvert_exporter": "python",
   "pygments_lexer": "ipython3",
   "version": "3.7.6"
  }
 },
 "nbformat": 4,
 "nbformat_minor": 4
}
